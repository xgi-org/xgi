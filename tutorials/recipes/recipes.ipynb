{
 "cells": [
  {
   "cell_type": "markdown",
   "metadata": {},
   "source": [
    "## 1. Simplicial complex from pairwise data\n",
    "This recipe show you how to create a simplicial complex by flagging the cliques ($k$-cliques are promoted to simplices of order $k-1$)."
   ]
  },
  {
   "cell_type": "code",
   "execution_count": 1,
   "metadata": {},
   "outputs": [],
   "source": [
    "import networkx as nx\n",
    "\n",
    "import xgi"
   ]
  },
  {
   "cell_type": "code",
   "execution_count": null,
   "metadata": {},
   "outputs": [],
   "source": [
    "G = nx.barabasi_albert_graph(n=100, m=2, seed=1)\n",
    "H = xgi.flag_complex_d2(G)\n",
    "\n",
    "print(H)"
   ]
  },
  {
   "cell_type": "markdown",
   "metadata": {},
   "source": [
    "## 2. Laplacian spectrum\n",
    "This recipe allows you write the multiorder Laplacian of a hypergraph. It also shows how to compute the eigenvalues and eigenvectors and how to plot the Laplacian spectrum."
   ]
  },
  {
   "cell_type": "code",
   "execution_count": null,
   "metadata": {},
   "outputs": [],
   "source": [
    "import matplotlib.pyplot as plt\n",
    "import numpy as np\n",
    "from numpy.linalg import eigh\n",
    "\n",
    "import xgi"
   ]
  },
  {
   "cell_type": "code",
   "execution_count": null,
   "metadata": {},
   "outputs": [],
   "source": [
    "H = xgi.random_hypergraph(N=100, ps=[0.2, 0.02], seed=1)"
   ]
  },
  {
   "cell_type": "code",
   "execution_count": null,
   "metadata": {},
   "outputs": [],
   "source": [
    "orders = np.array(xgi.unique_edge_sizes(H)) - 1\n",
    "L_multi = xgi.multiorder_laplacian(H, orders=orders, weights=[1] * len(orders))\n",
    "eivals, eivects = eigh(L_multi)"
   ]
  },
  {
   "cell_type": "code",
   "execution_count": null,
   "metadata": {},
   "outputs": [],
   "source": [
    "plt.plot(eivals);"
   ]
  },
  {
   "cell_type": "markdown",
   "metadata": {},
   "source": [
    "## 3. Adjacency tensor\n",
    "This recipe shows you how to retrieve the adjacency tensor at a given order of a hypergraph."
   ]
  },
  {
   "cell_type": "code",
   "execution_count": null,
   "metadata": {},
   "outputs": [],
   "source": [
    "from itertools import permutations\n",
    "\n",
    "import xgi\n",
    "\n",
    "\n",
    "def adjacency_tensor(H, order):\n",
    "    N = H.num_nodes\n",
    "    shape = tuple([N] * (order + 1))\n",
    "    tensor = np.zeros(shape)\n",
    "\n",
    "    edges = H.edges.filterby(\"order\", order)\n",
    "    for id, members in edges.members(dtype=dict).items():\n",
    "        for idcs in permutations(members):\n",
    "            tensor[idcs] = 1\n",
    "\n",
    "    return tensor"
   ]
  },
  {
   "cell_type": "code",
   "execution_count": null,
   "metadata": {},
   "outputs": [],
   "source": [
    "print(adjacency_tensor(H, 1).shape)\n",
    "print(adjacency_tensor(H, 2).shape)"
   ]
  },
  {
   "cell_type": "markdown",
   "metadata": {},
   "source": [
    "## 4. Create random hypergraph\n",
    "This recipe allows you to create a random hypergraph. It then shows you how to print a short summary of the hypergraph."
   ]
  },
  {
   "cell_type": "code",
   "execution_count": null,
   "metadata": {},
   "outputs": [],
   "source": [
    "import xgi\n",
    "\n",
    "N = 50  # number of nodes\n",
    "ps = [0.5, 0.2, 0.1]  # probabilities of edges of each order\n",
    "\n",
    "H = xgi.random_hypergraph(N, ps)\n",
    "\n",
    "print(H)"
   ]
  },
  {
   "cell_type": "markdown",
   "metadata": {},
   "source": [
    "## 5. Clean-up\n",
    "This recipe shows you how to remove singletons, isolated nodes, multiedges from your hypergraph dataset, this is achieved with the `cleanup` function that also relabels your nodes and edges with integer labels."
   ]
  },
  {
   "cell_type": "code",
   "execution_count": null,
   "metadata": {},
   "outputs": [],
   "source": [
    "import xgi\n",
    "\n",
    "H_enron = xgi.load_xgi_data(\"email-enron\")\n",
    "print(H_enron)"
   ]
  },
  {
   "cell_type": "code",
   "execution_count": null,
   "metadata": {},
   "outputs": [],
   "source": [
    "H_enron.cleanup()\n",
    "print(H_enron)"
   ]
  },
  {
   "cell_type": "markdown",
   "metadata": {},
   "source": [
    "## 6. Add two hypergraphs\n",
    "This recipe allows you to add two hypergraphs. This is done by merging the two hypergraphs and then removing the duplicate instances of edges."
   ]
  },
  {
   "cell_type": "code",
   "execution_count": null,
   "metadata": {},
   "outputs": [],
   "source": [
    "import xgi\n",
    "\n",
    "H1 = xgi.Hypergraph([[1, 2, 3], [3, 4]])\n",
    "H2 = xgi.Hypergraph([[1, 2], [3, 4], [4, 5, 6]])\n",
    "# create an hypergraph by merging H1 and H2\n",
    "H_res = H1 << H2\n",
    "# remove duplicated edges\n",
    "H_res.merge_duplicate_edges()\n",
    "# print the nodes and edges in order to see that everything is correct\n",
    "print(H_res.nodes)\n",
    "print(H_res.edges.members())"
   ]
  },
  {
   "cell_type": "markdown",
   "metadata": {},
   "source": [
    "## 7. Filterby\n",
    "This recipe shows you how to filter nodes and edges of a hypergraph based on the values of some statistics."
   ]
  },
  {
   "cell_type": "code",
   "execution_count": null,
   "metadata": {},
   "outputs": [],
   "source": [
    "H = xgi.Hypergraph([{1, 2, 3}, {1, 2}, {4, 5, 6}, {3, 4}])\n",
    "# filter the nodes of degree 2 and print them\n",
    "print(H.nodes.filterby(\"degree\", 2))\n",
    "# filter the edges of size 2 and print them\n",
    "print(H.edges.filterby(\"size\", 2).members())"
   ]
  },
  {
   "cell_type": "markdown",
   "metadata": {},
   "source": [
    "## 8. Plot a hypergraph showing one order only\n",
    "This recipe shows you how to plot a hypergraph showing only the edges of a certain order."
   ]
  },
  {
   "cell_type": "code",
   "execution_count": null,
   "metadata": {},
   "outputs": [],
   "source": [
    "import xgi\n",
    "\n",
    "H = xgi.Hypergraph([{1, 2, 3}, {1, 2}, {4, 5, 6}, {3, 4}])\n",
    "pos = xgi.barycenter_spring_layout(H, seed=1)"
   ]
  },
  {
   "cell_type": "code",
   "execution_count": null,
   "metadata": {},
   "outputs": [],
   "source": [
    "# plot it with all orders\n",
    "xgi.draw(H, pos);"
   ]
  },
  {
   "cell_type": "code",
   "execution_count": null,
   "metadata": {},
   "outputs": [],
   "source": [
    "# plot only edges of order 2\n",
    "H_order_2 = xgi.subhypergraph(H, edges=H.edges.filterby(\"order\", 2))\n",
    "xgi.draw(H_order_2, pos=pos);"
   ]
  },
  {
   "cell_type": "markdown",
   "metadata": {},
   "source": [
    "## 9. Plot with stats\n",
    "This recipe shows you how use the statistics of a hypergraph when plotting it. In this case we modify the size of the nodes according to their degree."
   ]
  },
  {
   "cell_type": "code",
   "execution_count": null,
   "metadata": {},
   "outputs": [],
   "source": [
    "H = xgi.Hypergraph([{1, 2, 3}, {1, 2}, {4, 5, 6}, {3, 4}, {1, 5}, {1, 3}])\n",
    "pos = xgi.barycenter_spring_layout(H, seed=1)\n",
    "# plot with node size corresponding to the degree\n",
    "xgi.draw(H, pos, node_size=H.nodes.degree);"
   ]
  },
  {
   "cell_type": "markdown",
   "metadata": {},
   "source": [
    "## 10. Merging multiedges\n",
    "This recipe allows you to merge multiedges in a hypergraph. It also shows how to visualize the multiplicity distibution for the edges."
   ]
  },
  {
   "cell_type": "code",
   "execution_count": null,
   "metadata": {},
   "outputs": [],
   "source": [
    "import pandas as pd\n",
    "import seaborn as sns\n",
    "\n",
    "import xgi\n",
    "\n",
    "H = xgi.load_xgi_data(\"diseasome\")\n",
    "H.merge_duplicate_edges(rename=\"tuple\", multiplicity=\"weight\")\n",
    "\n",
    "edge_size = H.edges.size.asnumpy()\n",
    "multiplicity = H.edges.attrs(\"weight\").asnumpy()\n",
    "df = pd.DataFrame.from_dict(\n",
    "    {\n",
    "        \"edge size\": H.edges.size.aslist(),\n",
    "        \"multiplicity\": H.edges.attrs(\"weight\", missing=1).aslist(),\n",
    "    }\n",
    ")\n",
    "\n",
    "g = sns.jointplot(data=df, x=\"edge size\", y=\"multiplicity\", kind=\"kde\")\n",
    "sns.despine()"
   ]
  },
  {
   "cell_type": "markdown",
   "metadata": {},
   "source": [
    "## 11. Degree distribution\n",
    "This recipe shows how to plot the degree distribution of a hypergraph in different layouts."
   ]
  },
  {
   "cell_type": "code",
   "execution_count": null,
   "metadata": {},
   "outputs": [],
   "source": [
    "import matplotlib.pyplot as plt\n",
    "import pandas as pd\n",
    "import seaborn as sns\n",
    "\n",
    "import xgi\n",
    "\n",
    "H = xgi.load_xgi_data(\"diseasome\")\n",
    "df1 = H.nodes.degree.ashist(bin_edges=True)\n",
    "df2 = H.nodes.degree.ashist(bin_edges=True, log_binning=True)\n",
    "\n",
    "plt.figure(figsize=(14, 4))\n",
    "plt.subplot(131)\n",
    "df1.plot(\n",
    "    \"bin_center\",\n",
    "    \"value\",\n",
    "    ax=plt.gca(),\n",
    "    logx=True,\n",
    "    logy=True,\n",
    "    kind=\"scatter\",\n",
    "    color=\"orange\",\n",
    "    label=\"Linear binning\",\n",
    ")\n",
    "df2.plot(\n",
    "    \"bin_center\",\n",
    "    \"value\",\n",
    "    ax=plt.gca(),\n",
    "    logx=True,\n",
    "    logy=True,\n",
    "    kind=\"scatter\",\n",
    "    label=\"Log binning\",\n",
    ")\n",
    "plt.ylabel(\"Number of nodes\")\n",
    "plt.xlabel(\"Degree\")\n",
    "plt.legend()\n",
    "sns.despine()\n",
    "\n",
    "plt.subplot(132)\n",
    "plt.title(\"Linear binning\")\n",
    "plt.bar(df1.bin_lo, df1.value, width=df1.bin_hi - df1.bin_lo, log=True, color=\"orange\")\n",
    "plt.xscale(\"log\")\n",
    "plt.xlabel(\"Degree\")\n",
    "sns.despine()\n",
    "\n",
    "plt.subplot(133)\n",
    "plt.title(\"Log binning\")\n",
    "plt.bar(df2.bin_lo, df2.value, width=df2.bin_hi - df2.bin_lo, log=True)\n",
    "plt.xscale(\"log\")\n",
    "plt.xlabel(\"Degree\")\n",
    "sns.despine()\n",
    "\n",
    "plt.show()"
   ]
  },
  {
   "cell_type": "markdown",
   "metadata": {},
   "source": [
    "## 12. Multilayer visualization of a hypergraph\n",
    "This recipe shows how to plot the [multilayer visualization](https://xgi.readthedocs.io/en/stable/api/drawing/xgi.drawing.draw.html#xgi.drawing.draw.draw_multilayer) of a hypergraph. This plotting function diplays higher-order structes in 3D showing hyperedges/simplices of different orders on superimposed layers."
   ]
  },
  {
   "cell_type": "code",
   "execution_count": null,
   "metadata": {},
   "outputs": [],
   "source": [
    "import matplotlib.pyplot as plt\n",
    "\n",
    "import xgi\n",
    "\n",
    "H = xgi.random_hypergraph(N=10, ps=[0.2, 0.05, 0.05], seed=1)\n",
    "\n",
    "_, ax = plt.subplots(figsize=(4, 4), subplot_kw={\"projection\": \"3d\"})\n",
    "xgi.draw_multilayer(H, ax=ax)"
   ]
  },
  {
   "cell_type": "markdown",
   "metadata": {},
   "source": [
    "## 13. Specifying the colours of hyperedges\n",
    "This recipe will show how to construct a hypergraph and specify the colours of the different hyperedges. There are three options to do it.\n",
    "First of all we create the hypergraph and specify the colors we want to use. "
   ]
  },
  {
   "cell_type": "code",
   "execution_count": null,
   "metadata": {},
   "outputs": [],
   "source": [
    "import xgi\n",
    "\n",
    "links = [[1, 2], [1, 3], [5, 6], [1, 7]]\n",
    "triangles = [[3, 5, 7], [2, 7, 1], [6, 10, 15]]\n",
    "squares = [[7, 8, 9, 10]]\n",
    "pentagons = [[1, 11, 12, 13, 14]]\n",
    "edges = links + triangles + squares + pentagons\n",
    "\n",
    "H = xgi.Hypergraph(edges)\n",
    "pos = xgi.barycenter_spring_layout(H, seed=2)\n",
    "\n",
    "link_color = \"#000000\"\n",
    "triangle_color = \"#648FFF\"\n",
    "square_color = \"#785EF0\"\n",
    "pentagon_color = \"#DC267F\"\n",
    "colors = [link_color, triangle_color, square_color, pentagon_color]"
   ]
  },
  {
   "cell_type": "markdown",
   "metadata": {},
   "source": [
    "**Option 1:** input colors that are lists/arrays with the right number of elements in the right order"
   ]
  },
  {
   "cell_type": "code",
   "execution_count": null,
   "metadata": {},
   "outputs": [],
   "source": [
    "edge_color = [colors[i - 2] for i in H.edges.filterby(\"order\", 1, \"gt\").size.aslist()]\n",
    "\n",
    "xgi.draw(H, pos=pos, dyad_color=link_color, edge_fc=edge_color);"
   ]
  },
  {
   "cell_type": "markdown",
   "metadata": {},
   "source": [
    "**Option 2:** a dictionary where keys are hyperedge ids and values are colours:"
   ]
  },
  {
   "cell_type": "code",
   "execution_count": null,
   "metadata": {},
   "outputs": [],
   "source": [
    "color_dict = {idx: colors[i - 2] for idx, i in H.edges.size.asdict().items()}\n",
    "\n",
    "xgi.draw(H, pos=pos, dyad_color=color_dict, edge_fc=color_dict);"
   ]
  },
  {
   "cell_type": "markdown",
   "metadata": {},
   "source": [
    "**Option 3:** just create a cmap that has the colours you want. This works in this case because the edges are already plotted with colors corresponding to their size. This option also allows to show an associated colorbar."
   ]
  },
  {
   "cell_type": "code",
   "execution_count": null,
   "metadata": {},
   "outputs": [],
   "source": [
    "from matplotlib.colors import ListedColormap\n",
    "\n",
    "cmap = ListedColormap(colors[1:])\n",
    "\n",
    "_, (node_collection, dyad_collection, edge_collection) = xgi.draw(\n",
    "    H, pos=pos, dyad_color=link_color, edge_fc_cmap=cmap\n",
    ")\n",
    "\n",
    "plt.colorbar(edge_collection, label=\"edges\")\n",
    "\n",
    "plt.tight_layout()"
   ]
  },
  {
   "attachments": {},
   "cell_type": "markdown",
   "metadata": {},
   "source": [
    "## 14. Flag a triangular lattice\n",
    "This recipe shows how you can create a simplicial complex object by randomly flagging a triangular lattice generated using [NetworkX](https://networkx.org/documentation/stable/reference/generated/networkx.generators.lattice.triangular_lattice_graph.html#networkx.generators.lattice.triangular_lattice_graph).\n",
    "This recipe uses the `xgi.flag_complex_d2()` (see [documentation](https://xgi.readthedocs.io/en/stable/api/generators/xgi.generators.simplicial_complexes.html#xgi.generators.simplicial_complexes.flag_complex_d2)) function, but needs a small trick to levarage the way nodes are encoded in the NetworkX function to plot correctly the lattice."
   ]
  },
  {
   "cell_type": "code",
   "execution_count": null,
   "metadata": {},
   "outputs": [],
   "source": [
    "import networkx as nx\n",
    "\n",
    "import xgi\n",
    "\n",
    "m, n = 10, 20\n",
    "p = 0.5\n",
    "\n",
    "G = nx.triangular_lattice_graph(m, n, with_positions=True)\n",
    "pos = nx.get_node_attributes(G, \"pos\")\n",
    "\n",
    "mapping = {i: list(G.nodes)[i] for i in range(0, len(list(G.nodes)))}\n",
    "inv_mapping = {v: k for k, v in mapping.items()}\n",
    "\n",
    "G_aux = nx.relabel_nodes(G, inv_mapping)\n",
    "S = xgi.flag_complex_d2(G_aux, p2=p)\n",
    "\n",
    "pos = {inv_mapping[k]: v for k, v in pos.items()}\n",
    "xgi.draw(S, pos=pos);"
   ]
  },
  {
   "attachments": {},
   "cell_type": "markdown",
   "metadata": {},
   "source": [
    "## 14. Compute the average path length in a hypergraph\n",
    "This recipe shows how to compute the average path length in a hypergraph.\n",
    "You can compute all shortest path lengths with `xgi.shortest_path_length()` (see [documentation](https://xgi.readthedocs.io/en/stable/api/algorithms/xgi.algorithms.shortest_path.html#xgi.algorithms.shortest_path.shortest_path_length)). \n",
    "The `xgi.shortest_path_length()` function returns an infinite length for disconnected nodes. \n",
    "To allow the computation of the average path length in any case we replace `np.inf` with 0 for disconnected nodes and remove length-0 paths for self-loops."
   ]
  },
  {
   "cell_type": "code",
   "execution_count": null,
   "metadata": {},
   "outputs": [],
   "source": [
    "import numpy as np\n",
    "\n",
    "import xgi\n",
    "\n",
    "H = xgi.random_hypergraph(N=100, ps=[0.2, 0.02], seed=1)\n",
    "N = H.num_nodes\n",
    "spl = xgi.shortest_path_length(H)\n",
    "\n",
    "lens = []\n",
    "for tup in spl:\n",
    "    lens += tup[1].values()\n",
    "\n",
    "# remove lengths 0 for self-loops\n",
    "lens = [i for i in lens if i != 0]\n",
    "\n",
    "# replace inf by 0 for disconnected nodes\n",
    "lens = [0 if i == np.inf else i for i in lens]\n",
    "\n",
    "avg_shortest_path = np.sum(lens) / (N * (N - 1))\n",
    "print(\"The average shortest path length is\", avg_shortest_path)"
   ]
  },
  {
   "cell_type": "markdown",
   "metadata": {},
   "source": [
    "## 16. Get all of the node IDs that have maximum degree\n",
    "This recipe demonstrates how to get all of the indices corresponding to the maximum degree, because `argmax` only returns the first index corresponding to the maximal value."
   ]
  },
  {
   "cell_type": "code",
   "execution_count": null,
   "metadata": {},
   "outputs": [],
   "source": [
    "import xgi\n",
    "\n",
    "H = xgi.Hypergraph([[1, 2, 3, 4], [1, 2, 3], [1, 2]])\n",
    "\n",
    "[k for k, v in H.degree().items() if v == H.nodes.degree.max()]"
   ]
  },
  {
   "cell_type": "markdown",
   "metadata": {},
   "source": [
    "## 17. Get all the node IDs corresponding to the 100th largest degree\n",
    "The `argsort` method allows us to access the node IDs by their statistical rank. Here we get the 100th largest degree and find all the node IDs that share that degree."
   ]
  },
  {
   "cell_type": "code",
   "execution_count": null,
   "metadata": {},
   "outputs": [],
   "source": [
    "import xgi\n",
    "\n",
    "H = xgi.load_xgi_data(\"email-enron\")\n",
    "ids = H.nodes.degree.argsort()\n",
    "i = ids[-100]\n",
    "d = H.degree()[i]\n",
    "matching_ids = [k for k, v in H.degree().items() if v == d]\n",
    "print(f\"Nodes {', '.join(matching_ids)} have degree {d}\")"
   ]
  },
  {
   "cell_type": "markdown",
   "metadata": {},
   "source": [
    "## 18. Define a custom filtering function\n",
    "\n",
    "In addition to the pre-defined filtering functionality, one can also define a custom comparison operator to compare statistics and attributes.\n",
    "\n",
    "First, we show an example for numerical statistics and second, an example for attributes."
   ]
  },
  {
   "cell_type": "markdown",
   "metadata": {},
   "source": [
    "**Numerical statistics**"
   ]
  },
  {
   "cell_type": "code",
   "execution_count": null,
   "metadata": {},
   "outputs": [],
   "source": [
    "import xgi\n",
    "\n",
    "outsiderange = lambda val, arg: arg[0] > val or val > arg[1]\n",
    "\n",
    "H = xgi.load_xgi_data(\"email-enron\")\n",
    "print(f\"The total number of nodes is {H.num_nodes}\")\n",
    "\n",
    "# Get all of nodes that have degree less than 3 or greater than 20\n",
    "nodes = H.nodes.filterby(\"degree\", [3, 20], mode=outsiderange)\n",
    "print(f\"The number of nodes with degree less than 3 or greater than 20 is {len(nodes)}\")"
   ]
  },
  {
   "cell_type": "markdown",
   "metadata": {},
   "source": [
    "**Attributes**"
   ]
  },
  {
   "cell_type": "code",
   "execution_count": null,
   "metadata": {},
   "outputs": [],
   "source": [
    "import datetime\n",
    "\n",
    "import xgi\n",
    "\n",
    "date1 = datetime.datetime(2000, 1, 1)\n",
    "date2 = datetime.datetime(2001, 1, 1)\n",
    "datecompare = (\n",
    "    lambda date, arg: arg[0] <= datetime.datetime.fromisoformat(date) <= arg[1]\n",
    ")\n",
    "\n",
    "H = xgi.load_xgi_data(\"email-enron\")\n",
    "print(f\"The total number of hyperedges is {H.num_edges}\")\n",
    "\n",
    "# Get all of the dates between 01JAN2000 and 01JAN2001\n",
    "e = H.edges.filterby_attr(\"timestamp\", [date1, date2], mode=datecompare)\n",
    "print(f\"The number of hyperedges between 01JAN2000 and 01JAN2001 is {len(e)}\")"
   ]
  },
  {
   "cell_type": "markdown",
   "metadata": {},
   "source": [
    "## 19. Plot many hypergraphs using the same nodal positions\n",
    "\n",
    "It can be desirable to plot many hypergraphs with different color schemes or subsets of the original hypergraph, but with the same node positions."
   ]
  },
  {
   "cell_type": "code",
   "execution_count": null,
   "metadata": {},
   "outputs": [],
   "source": [
    "import itertools\n",
    "\n",
    "import matplotlib.pyplot as plt\n",
    "import numpy as np\n",
    "from matplotlib import gridspec\n",
    "\n",
    "import xgi\n",
    "\n",
    "link_color = \"#000000\"\n",
    "triangle_color = \"#648FFF\"\n",
    "square_color = \"#785EF0\"\n",
    "pentagon_color = \"#DC267F\"\n",
    "colors = [link_color, triangle_color, square_color, pentagon_color]\n",
    "\n",
    "\n",
    "def color_edges(H):\n",
    "    return [colors[i - 2] for i in H.edges.filterby(\"order\", 1, \"gt\").size.aslist()]\n",
    "\n",
    "\n",
    "links = [[1, 2], [1, 3], [5, 6], [1, 7]]\n",
    "triangles = [[3, 5, 7], [2, 7, 1], [6, 10, 15]]\n",
    "squares = [[7, 8, 9, 10]]\n",
    "pentagons = [[1, 11, 12, 13, 14]]\n",
    "edges = links + triangles + squares + pentagons\n",
    "H = xgi.Hypergraph(edges)\n",
    "\n",
    "# This computes the positions used for all of the subplots\n",
    "pos = xgi.pca_transform(xgi.pairwise_spring_layout(H, seed=3))\n",
    "\n",
    "filtering_parameters = np.arange(\n",
    "    H.edges.size.min(), H.edges.size.max() + 1, 1, dtype=int\n",
    ")\n",
    "\n",
    "uniform_filtering = [\n",
    "    xgi.subhypergraph(H, edges=H.edges.filterby(\"size\", k, \"eq\")).copy()\n",
    "    for k in filtering_parameters\n",
    "]\n",
    "geq_filtering = [\n",
    "    xgi.subhypergraph(H, edges=H.edges.filterby(\"size\", k, \"geq\")).copy()\n",
    "    for k in filtering_parameters\n",
    "]\n",
    "leq_filtering = [\n",
    "    xgi.subhypergraph(H, edges=H.edges.filterby(\"size\", k, \"leq\")).copy()\n",
    "    for k in filtering_parameters\n",
    "]\n",
    "exclusion_filtering = [\n",
    "    xgi.subhypergraph(H, edges=H.edges.filterby(\"size\", k, \"neq\")).copy()\n",
    "    for k in filtering_parameters\n",
    "]\n",
    "filterings = [uniform_filtering, geq_filtering, leq_filtering, exclusion_filtering]\n",
    "\n",
    "fig = plt.figure(layout=\"constrained\", figsize=(8, 4))\n",
    "\n",
    "gs_leftright = gridspec.GridSpec(1, 3, figure=fig, wspace=0.075)\n",
    "gs_panels = gridspec.GridSpecFromSubplotSpec(4, 4, subplot_spec=gs_leftright[1:])\n",
    "\n",
    "ax_left = fig.add_subplot(gs_leftright[0])\n",
    "xgi.draw(\n",
    "    H,\n",
    "    pos=pos,\n",
    "    ax=ax_left,\n",
    "    edge_fc=color_edges(H),\n",
    "    node_size=7,\n",
    "    node_lw=0.5,\n",
    "    dyad_lw=0.75,\n",
    "    alpha=1,\n",
    ")\n",
    "\n",
    "labels = [r\"$H_{(=, k)}$\", r\"$H_{(\\geq, k)}$\", r\"$H_{(\\leq, k)}$\", r\"$H_{(\\neq, k)}$\"]\n",
    "\n",
    "for i, j in itertools.product(range(4), repeat=2):\n",
    "    ax = fig.add_subplot(gs_panels[i, j])\n",
    "    ec = color_edges(filterings[i][j])\n",
    "    xgi.draw(\n",
    "        filterings[i][j],\n",
    "        pos=pos,\n",
    "        ax=ax,\n",
    "        node_size=4,\n",
    "        dyad_lw=0.75,\n",
    "        node_lw=0.5,\n",
    "        edge_fc=ec,\n",
    "        alpha=1,\n",
    "    )\n",
    "    if i == 0:\n",
    "        ax.set_title(rf\"$k={j + 2}$\")\n",
    "\n",
    "    if j == 0:\n",
    "        ax.text(-3.5, 0, labels[i], fontsize=16)\n",
    "plt.show()"
   ]
  },
  {
   "cell_type": "markdown",
   "metadata": {},
   "source": [
    "## 20. Cut a hypergraph to a maximum order\n",
    "\n",
    "This recipe demonstrates how to create a hypergraph with edges smaller than a certain order."
   ]
  },
  {
   "cell_type": "code",
   "execution_count": null,
   "metadata": {},
   "outputs": [],
   "source": [
    "import xgi\n",
    "\n",
    "H = xgi.load_xgi_data(\"email-enron\")\n",
    "max_order = 3\n",
    "cutH = xgi.subhypergraph(H, edges=H.edges.filterby(\"order\", max_order, \"lt\"))\n",
    "# this is a frozen hypergraph\n",
    "print(f\"The add_edge method is {cutH.add_edge}\")\n",
    "print(f\"The unique edge orders are {cutH.edges.order.aspandas().unique()}\")\n",
    "\n",
    "# we can create an editable hypergraph by copying it.\n",
    "cutHeditable = xgi.subhypergraph(H, edges=H.edges.filterby(\"order\", max_order, \"lt\")).copy()\n",
    "print(f\"The add_edge method is {cutHeditable.add_edge}\")"
   ]
  }
 ],
 "metadata": {
  "kernelspec": {
   "display_name": "base",
   "language": "python",
   "name": "python3"
  },
  "language_info": {
   "codemirror_mode": {
    "name": "ipython",
    "version": 3
   },
   "file_extension": ".py",
   "mimetype": "text/x-python",
   "name": "python",
   "nbconvert_exporter": "python",
   "pygments_lexer": "ipython3",
   "version": "3.12.4"
  },
  "toc": {
   "base_numbering": 1,
   "nav_menu": {},
   "number_sections": true,
   "sideBar": true,
   "skip_h1_title": false,
   "title_cell": "Table of Contents",
   "title_sidebar": "Contents",
   "toc_cell": false,
   "toc_position": {},
   "toc_section_display": true,
   "toc_window_display": false
  }
 },
 "nbformat": 4,
 "nbformat_minor": 2
}
