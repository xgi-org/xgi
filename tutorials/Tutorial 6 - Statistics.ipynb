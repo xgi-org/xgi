{
 "cells": [
  {
   "cell_type": "markdown",
   "id": "9d820f8e",
   "metadata": {},
   "source": [
    "# Tutorial 6 - Statistics"
   ]
  },
  {
   "cell_type": "markdown",
   "id": "22c91ad1",
   "metadata": {},
   "source": [
    "You may have noticed that most of the functionality in the `Hypergraph` and `SimplicialComplex` classes takes care of modifying the unerlying structure of the network, and that these classes provide very limited functionality to compute statistics (a.k.a. measures) from the network. This is done via the `stats` package, explored here.\n",
    "\n",
    "The stats package is one of the features that sets `xgi` apart from other libraries.  It\n",
    "provides a common interface to all statistics that can be computed from a network, its\n",
    "nodes, or edges."
   ]
  },
  {
   "cell_type": "markdown",
   "id": "018c6bd1",
   "metadata": {},
   "source": [
    "## Introduction to Stat objects"
   ]
  },
  {
   "cell_type": "markdown",
   "id": "1ab63954",
   "metadata": {},
   "source": [
    "Consider the degree of the nodes of a network `H`.  After computing the values of the\n",
    "degrees, one may wish to store them in a dict, a list, an array, a dataframe, etc.\n",
    "Through the stats package, `xgi` provides a simple interface that seamlessly allows for\n",
    "this type conversion.  This is done via the `NodeStat` class."
   ]
  },
  {
   "cell_type": "code",
   "execution_count": 1,
   "id": "05a9a2a5",
   "metadata": {},
   "outputs": [
    {
     "data": {
      "text/plain": [
       "NodeStat('degree')"
      ]
     },
     "execution_count": 1,
     "metadata": {},
     "output_type": "execute_result"
    }
   ],
   "source": [
    "import xgi\n",
    "\n",
    "H = xgi.Hypergraph([[1, 2, 3], [2, 3, 4, 5], [3, 4, 5]])\n",
    "H.nodes.degree"
   ]
  },
  {
   "cell_type": "markdown",
   "id": "2c456800",
   "metadata": {},
   "source": [
    "This `NodeStat` object is essentially a wrapper over a function that computes the\n",
    "degrees of all nodes.  One of the main features of `NodeStat` objects is lazy\n",
    "evaluation: `H.nodes.degree` will not compute the degrees of nodes until a specific\n",
    "output format is requested."
   ]
  },
  {
   "cell_type": "code",
   "execution_count": 2,
   "id": "512f4e2c",
   "metadata": {},
   "outputs": [
    {
     "data": {
      "text/plain": [
       "{1: 1, 2: 2, 3: 3, 4: 2, 5: 2}"
      ]
     },
     "execution_count": 2,
     "metadata": {},
     "output_type": "execute_result"
    }
   ],
   "source": [
    "H.nodes.degree.asdict()"
   ]
  },
  {
   "cell_type": "code",
   "execution_count": 3,
   "id": "ddaed7f6",
   "metadata": {},
   "outputs": [
    {
     "data": {
      "text/plain": [
       "[1, 2, 3, 2, 2]"
      ]
     },
     "execution_count": 3,
     "metadata": {},
     "output_type": "execute_result"
    }
   ],
   "source": [
    "H.nodes.degree.aslist()"
   ]
  },
  {
   "cell_type": "code",
   "execution_count": 4,
   "id": "738297c9",
   "metadata": {},
   "outputs": [
    {
     "data": {
      "text/plain": [
       "array([1, 2, 3, 2, 2])"
      ]
     },
     "execution_count": 4,
     "metadata": {},
     "output_type": "execute_result"
    }
   ],
   "source": [
    "H.nodes.degree.asnumpy()"
   ]
  },
  {
   "cell_type": "markdown",
   "id": "5958e119",
   "metadata": {},
   "source": [
    "To compute the degrees of a subset of the nodes, call `degree` from a smaller `NodeView`."
   ]
  },
  {
   "cell_type": "code",
   "execution_count": 5,
   "id": "5c19ec0e",
   "metadata": {},
   "outputs": [
    {
     "data": {
      "text/plain": [
       "{3: 3, 4: 2, 5: 2}"
      ]
     },
     "execution_count": 5,
     "metadata": {},
     "output_type": "execute_result"
    }
   ],
   "source": [
    "H.nodes([3, 4, 5]).degree.asdict()"
   ]
  },
  {
   "cell_type": "markdown",
   "id": "6c271d46",
   "metadata": {},
   "source": [
    "The order of the degrees in the output respects the order of the nodes in the underlying\n",
    "view."
   ]
  },
  {
   "cell_type": "code",
   "execution_count": 6,
   "id": "01837d9c",
   "metadata": {},
   "outputs": [
    {
     "data": {
      "text/plain": [
       "([3, 2, 2], [3, 2, 2])"
      ]
     },
     "execution_count": 6,
     "metadata": {},
     "output_type": "execute_result"
    }
   ],
   "source": [
    "H.nodes([3, 4, 5]).degree.aslist(), H.nodes([4, 3, 5]).degree.aslist()"
   ]
  },
  {
   "cell_type": "markdown",
   "id": "eaf82dff",
   "metadata": {},
   "source": [
    "Alternatively, to compute the degree of a single node, use square brackets."
   ]
  },
  {
   "cell_type": "code",
   "execution_count": 7,
   "id": "64eda1dd",
   "metadata": {},
   "outputs": [
    {
     "data": {
      "text/plain": [
       "2"
      ]
     },
     "execution_count": 7,
     "metadata": {},
     "output_type": "execute_result"
    }
   ],
   "source": [
    "H.nodes.degree[4]"
   ]
  },
  {
   "cell_type": "markdown",
   "id": "b0cfd41c",
   "metadata": {},
   "source": [
    "Make sure the accessed node is in the underlying view."
   ]
  },
  {
   "cell_type": "code",
   "execution_count": 8,
   "id": "2a745586",
   "metadata": {},
   "outputs": [],
   "source": [
    "# This will raise an exception\n",
    "# because node 4 is not in the view [1, 2, 3]\n",
    "#\n",
    "# H.nodes([1, 2, 3]).degree[4]\n",
    "#"
   ]
  },
  {
   "cell_type": "markdown",
   "id": "41ee1b35",
   "metadata": {},
   "source": [
    "args and kwargs may be passed to `NodeStat` objects, which will be stored and used when\n",
    "the evaluation finally takes place.  For example, use the `order` keyword of `degree` to\n",
    "count only those edges of the specified order."
   ]
  },
  {
   "cell_type": "code",
   "execution_count": 9,
   "id": "06f97c51",
   "metadata": {},
   "outputs": [
    {
     "data": {
      "text/plain": [
       "NodeStat('degree', kwargs={'order': 3})"
      ]
     },
     "execution_count": 9,
     "metadata": {},
     "output_type": "execute_result"
    }
   ],
   "source": [
    "H.nodes.degree(order=3)"
   ]
  },
  {
   "cell_type": "code",
   "execution_count": 10,
   "id": "d78bcb31",
   "metadata": {},
   "outputs": [
    {
     "data": {
      "text/plain": [
       "[0, 1, 1, 1, 1]"
      ]
     },
     "execution_count": 10,
     "metadata": {},
     "output_type": "execute_result"
    }
   ],
   "source": [
    "H.nodes.degree(order=3).aslist()"
   ]
  },
  {
   "cell_type": "markdown",
   "id": "547ceda2",
   "metadata": {},
   "source": [
    "The stats package provides some convenience functions for numerical operations."
   ]
  },
  {
   "cell_type": "code",
   "execution_count": 11,
   "id": "48bb7d5c",
   "metadata": {},
   "outputs": [
    {
     "data": {
      "text/plain": [
       "(3, 1)"
      ]
     },
     "execution_count": 11,
     "metadata": {},
     "output_type": "execute_result"
    }
   ],
   "source": [
    "H.nodes.degree.max(), H.nodes.degree.min()"
   ]
  },
  {
   "cell_type": "code",
   "execution_count": 12,
   "id": "8490f605",
   "metadata": {},
   "outputs": [
    {
     "data": {
      "text/plain": [
       "array([1.   , 0.   , 0.667, 1.   , 0.222, 0.471])"
      ]
     },
     "execution_count": 12,
     "metadata": {},
     "output_type": "execute_result"
    }
   ],
   "source": [
    "import numpy as np\n",
    "\n",
    "st = H.nodes([1, 2, 3]).degree(order=3)\n",
    "np.round([st.max(), st.min(), st.mean(), st.median(), st.var(), st.std()], 3)"
   ]
  },
  {
   "cell_type": "markdown",
   "id": "7669ae88",
   "metadata": {},
   "source": [
    "As a convenience, each node statistic may also be accessed directly through the network itself."
   ]
  },
  {
   "cell_type": "code",
   "execution_count": 13,
   "id": "3b0797f4",
   "metadata": {},
   "outputs": [
    {
     "data": {
      "text/plain": [
       "{1: 1, 2: 2, 3: 3, 4: 2, 5: 2}"
      ]
     },
     "execution_count": 13,
     "metadata": {},
     "output_type": "execute_result"
    }
   ],
   "source": [
    "H.degree()"
   ]
  },
  {
   "cell_type": "markdown",
   "id": "39d32e77",
   "metadata": {},
   "source": [
    "Note however that `H.degree` is a method that simply returns a dict, not a `NodeStat` object and thus does not support the features discussed above."
   ]
  },
  {
   "cell_type": "markdown",
   "id": "08163646",
   "metadata": {},
   "source": [
    "## Node attributes"
   ]
  },
  {
   "cell_type": "markdown",
   "id": "9152e7e5",
   "metadata": {},
   "source": [
    "Node attributes can be conceived of as a node-object mapping and thus they can also be accessed using the `NodeStat` interface and all its funcitonality."
   ]
  },
  {
   "cell_type": "code",
   "execution_count": 14,
   "id": "6215e577",
   "metadata": {},
   "outputs": [],
   "source": [
    "H.add_nodes_from(\n",
    "    [\n",
    "        (1, {\"color\": \"red\", \"name\": \"horse\"}),\n",
    "        (2, {\"color\": \"blue\", \"name\": \"pony\"}),\n",
    "        (3, {\"color\": \"yellow\", \"name\": \"zebra\"}),\n",
    "        (4, {\"color\": \"red\", \"name\": \"orangutan\", \"age\": 20}),\n",
    "        (5, {\"color\": \"blue\", \"name\": \"fish\", \"age\": 2}),\n",
    "    ]\n",
    ")"
   ]
  },
  {
   "cell_type": "markdown",
   "id": "54a3a925",
   "metadata": {},
   "source": [
    "Access all attributes of all nodes by specifying a return type."
   ]
  },
  {
   "cell_type": "code",
   "execution_count": 15,
   "id": "3053f165",
   "metadata": {},
   "outputs": [
    {
     "data": {
      "text/plain": [
       "{1: {'color': 'red', 'name': 'horse'},\n",
       " 2: {'color': 'blue', 'name': 'pony'},\n",
       " 3: {'color': 'yellow', 'name': 'zebra'},\n",
       " 4: {'color': 'red', 'name': 'orangutan', 'age': 20},\n",
       " 5: {'color': 'blue', 'name': 'fish', 'age': 2}}"
      ]
     },
     "execution_count": 15,
     "metadata": {},
     "output_type": "execute_result"
    }
   ],
   "source": [
    "H.nodes.attrs.asdict()"
   ]
  },
  {
   "cell_type": "markdown",
   "id": "052ed6b4",
   "metadata": {},
   "source": [
    "Access all attributes of a single node by using square brackets."
   ]
  },
  {
   "cell_type": "code",
   "execution_count": 16,
   "id": "58b9c28b",
   "metadata": {},
   "outputs": [
    {
     "data": {
      "text/plain": [
       "{'color': 'red', 'name': 'horse'}"
      ]
     },
     "execution_count": 16,
     "metadata": {},
     "output_type": "execute_result"
    }
   ],
   "source": [
    "H.nodes.attrs[1]"
   ]
  },
  {
   "cell_type": "markdown",
   "id": "1f91502a",
   "metadata": {},
   "source": [
    "Access a single attribute of all nodes by specifying a return type."
   ]
  },
  {
   "cell_type": "code",
   "execution_count": 17,
   "id": "f7dfa2d3",
   "metadata": {},
   "outputs": [
    {
     "data": {
      "text/plain": [
       "['red', 'blue', 'yellow', 'red', 'blue']"
      ]
     },
     "execution_count": 17,
     "metadata": {},
     "output_type": "execute_result"
    }
   ],
   "source": [
    "H.nodes.attrs(\"color\").aslist()"
   ]
  },
  {
   "cell_type": "markdown",
   "id": "ce1a5c97",
   "metadata": {},
   "source": [
    "If a node does not have the specified attribute, `None` will be used."
   ]
  },
  {
   "cell_type": "code",
   "execution_count": 18,
   "id": "c2a5acff",
   "metadata": {},
   "outputs": [
    {
     "data": {
      "text/plain": [
       "{1: None, 2: None, 3: None, 4: 20, 5: 2}"
      ]
     },
     "execution_count": 18,
     "metadata": {},
     "output_type": "execute_result"
    }
   ],
   "source": [
    "H.nodes.attrs(\"age\").asdict()"
   ]
  },
  {
   "cell_type": "markdown",
   "id": "5f6c2981",
   "metadata": {},
   "source": [
    "Use the `missing` keyword argument to change the imputed value."
   ]
  },
  {
   "cell_type": "code",
   "execution_count": 19,
   "id": "d9b9ea5c",
   "metadata": {},
   "outputs": [
    {
     "data": {
      "text/plain": [
       "{1: 100, 2: 100, 3: 100, 4: 20, 5: 2}"
      ]
     },
     "execution_count": 19,
     "metadata": {},
     "output_type": "execute_result"
    }
   ],
   "source": [
    "H.nodes.attrs(\"age\", missing=100).asdict()"
   ]
  },
  {
   "cell_type": "markdown",
   "id": "ac5342bf",
   "metadata": {},
   "source": [
    "## Filtering"
   ]
  },
  {
   "cell_type": "markdown",
   "id": "a8feadac",
   "metadata": {},
   "source": [
    "`NodeView` objects are aware of existing `NodeStat` objects via the `filterby` method."
   ]
  },
  {
   "cell_type": "code",
   "execution_count": 20,
   "id": "5164b23e",
   "metadata": {},
   "outputs": [
    {
     "data": {
      "text/plain": [
       "{1: 1, 2: 2, 3: 3, 4: 2, 5: 2}"
      ]
     },
     "execution_count": 20,
     "metadata": {},
     "output_type": "execute_result"
    }
   ],
   "source": [
    "H.degree()"
   ]
  },
  {
   "cell_type": "code",
   "execution_count": 21,
   "id": "c0688703",
   "metadata": {},
   "outputs": [
    {
     "data": {
      "text/plain": [
       "NodeView((2, 4, 5))"
      ]
     },
     "execution_count": 21,
     "metadata": {},
     "output_type": "execute_result"
    }
   ],
   "source": [
    "H.nodes.filterby(\"degree\", 2)  # apply the filter to all nodes"
   ]
  },
  {
   "cell_type": "code",
   "execution_count": 22,
   "id": "302e6674",
   "metadata": {},
   "outputs": [
    {
     "data": {
      "text/plain": [
       "NodeView((2,))"
      ]
     },
     "execution_count": 22,
     "metadata": {},
     "output_type": "execute_result"
    }
   ],
   "source": [
    "H.nodes([1, 2, 3]).filterby(\n",
    "    \"degree\", 2\n",
    ")  # apply the filter only to the subset of nodes [1, 2, 3]"
   ]
  },
  {
   "cell_type": "markdown",
   "id": "9cba86c7",
   "metadata": {},
   "source": [
    "Nodes can be filtered by attribute via the `filterby_attr` method."
   ]
  },
  {
   "cell_type": "code",
   "execution_count": 23,
   "id": "c612ccff",
   "metadata": {},
   "outputs": [
    {
     "data": {
      "text/plain": [
       "NodeView((1, 4))"
      ]
     },
     "execution_count": 23,
     "metadata": {},
     "output_type": "execute_result"
    }
   ],
   "source": [
    "H.nodes.filterby_attr(\"color\", \"red\")"
   ]
  },
  {
   "cell_type": "markdown",
   "id": "69b855ef",
   "metadata": {},
   "source": [
    "Since `filterby*` methods return a `NodeView` object, multiple filters can be chained, as well as other `NodeStat` calls. The following call computes the local clustering coefficient of those nodes with degree equal to 2 and \"color\" attribute equal to \"blue\", and outputs the result as a dict."
   ]
  },
  {
   "cell_type": "code",
   "execution_count": 24,
   "id": "cbdc4409",
   "metadata": {
    "scrolled": true
   },
   "outputs": [
    {
     "data": {
      "text/plain": [
       "{2: 4.0, 5: 3.0}"
      ]
     },
     "execution_count": 24,
     "metadata": {},
     "output_type": "execute_result"
    }
   ],
   "source": [
    "(\n",
    "    H.nodes.filterby(\"degree\", 2)\n",
    "    .filterby_attr(\"color\", \"blue\")\n",
    "    .clustering_coefficient.asdict()\n",
    ")"
   ]
  },
  {
   "cell_type": "markdown",
   "id": "d830bb95",
   "metadata": {},
   "source": [
    "For example, here is how to access the nodes with maximum degree."
   ]
  },
  {
   "cell_type": "code",
   "execution_count": 25,
   "id": "c8defa14",
   "metadata": {},
   "outputs": [
    {
     "data": {
      "text/plain": [
       "NodeView((3,))"
      ]
     },
     "execution_count": 25,
     "metadata": {},
     "output_type": "execute_result"
    }
   ],
   "source": [
    "H.nodes.filterby(\"degree\", H.nodes.degree.max())"
   ]
  },
  {
   "cell_type": "markdown",
   "id": "cc5df033",
   "metadata": {},
   "source": [
    "## Set operations"
   ]
  },
  {
   "cell_type": "markdown",
   "id": "11548f49",
   "metadata": {},
   "source": [
    "Another way of chaining multiple results of `filterby*` methods is by using set operations. Indeed, chaining two filters is the same as intersecting the results of two separate calls:"
   ]
  },
  {
   "cell_type": "code",
   "execution_count": 26,
   "id": "970da532",
   "metadata": {},
   "outputs": [
    {
     "name": "stdout",
     "output_type": "stream",
     "text": [
      "[2, 5]\n",
      "[2, 5]\n"
     ]
    }
   ],
   "source": [
    "print(H.nodes.filterby(\"degree\", 2).filterby_attr(\"color\", \"blue\"))\n",
    "print(H.nodes.filterby(\"degree\", 2) & H.nodes.filterby_attr(\"color\", \"blue\"))"
   ]
  },
  {
   "cell_type": "markdown",
   "id": "dc0ff694",
   "metadata": {},
   "source": [
    "Other set operations are also supported."
   ]
  },
  {
   "cell_type": "code",
   "execution_count": 27,
   "id": "65c22a67",
   "metadata": {},
   "outputs": [
    {
     "name": "stdout",
     "output_type": "stream",
     "text": [
      "nodes1 - nodes2 = [4]\n",
      "nodes2 - nodes1 = []\n",
      "nodes1 & nodes2 = [2, 5]\n",
      "nodes1 | nodes2 = [2, 4, 5]\n",
      "nodes1 ^ nodes2 = [4]\n"
     ]
    }
   ],
   "source": [
    "nodes1 = H.nodes.filterby(\"degree\", 2)\n",
    "nodes2 = H.nodes.filterby_attr(\"color\", \"blue\")\n",
    "print(f\"nodes1 - nodes2 = {nodes1 - nodes2}\")\n",
    "print(f\"nodes2 - nodes1 = {nodes2 - nodes1}\")\n",
    "print(f\"nodes1 & nodes2 = {nodes1 & nodes2}\")\n",
    "print(f\"nodes1 | nodes2 = {nodes1 | nodes2}\")\n",
    "print(f\"nodes1 ^ nodes2 = {nodes1 ^ nodes2}\")"
   ]
  },
  {
   "cell_type": "markdown",
   "id": "697055d8",
   "metadata": {},
   "source": [
    "## Multiple statistics"
   ]
  },
  {
   "cell_type": "markdown",
   "id": "f35e4ef1",
   "metadata": {},
   "source": [
    "One can obtain multiple node statistics at the same time via the `multi` method, which returns `MultiNodeStat` objects."
   ]
  },
  {
   "cell_type": "code",
   "execution_count": 28,
   "id": "09aeadef",
   "metadata": {},
   "outputs": [
    {
     "data": {
      "text/plain": [
       "MultiNodeStat(degree, clustering)"
      ]
     },
     "execution_count": 28,
     "metadata": {},
     "output_type": "execute_result"
    }
   ],
   "source": [
    "H.nodes.multi([\"degree\", \"clustering_coefficient\"])"
   ]
  },
  {
   "cell_type": "markdown",
   "id": "741b381a",
   "metadata": {},
   "source": [
    "Objects of class `MultiNodeStat` also support lazy evaluation and type conversion."
   ]
  },
  {
   "cell_type": "code",
   "execution_count": 29,
   "id": "31619b17",
   "metadata": {
    "scrolled": true
   },
   "outputs": [
    {
     "data": {
      "text/plain": [
       "{1: {'degree': 1, 'clustering': 0.0},\n",
       " 2: {'degree': 2, 'clustering': 4.0},\n",
       " 3: {'degree': 3, 'clustering': 1.3333333333333333},\n",
       " 4: {'degree': 2, 'clustering': 3.0},\n",
       " 5: {'degree': 2, 'clustering': 3.0}}"
      ]
     },
     "execution_count": 29,
     "metadata": {},
     "output_type": "execute_result"
    }
   ],
   "source": [
    "H.nodes.multi([\"degree\", \"clustering_coefficient\"]).asdict()"
   ]
  },
  {
   "cell_type": "markdown",
   "id": "4cdb4bd5",
   "metadata": {},
   "source": [
    "There are more options for the output type of a `MultiNodeStat` object."
   ]
  },
  {
   "cell_type": "code",
   "execution_count": 30,
   "id": "c29d8461",
   "metadata": {},
   "outputs": [
    {
     "name": "stdout",
     "output_type": "stream",
     "text": [
      "# dict of dicts, nodes first:\n",
      "{1: {'clustering': 0.0, 'degree': 1},\n",
      " 2: {'clustering': 4.0, 'degree': 2},\n",
      " 3: {'clustering': 1.3333333333333333, 'degree': 3},\n",
      " 4: {'clustering': 3.0, 'degree': 2},\n",
      " 5: {'clustering': 3.0, 'degree': 2}}\n",
      "\n",
      "# dict of dicts, stats first:\n",
      "{'clustering': {1: 0.0, 2: 4.0, 3: 1.3333333333333333, 4: 3.0, 5: 3.0},\n",
      " 'degree': {1: 1, 2: 2, 3: 3, 4: 2, 5: 2}}\n",
      "\n",
      "# dict of lists:\n",
      "{1: [1, 0.0], 2: [2, 4.0], 3: [3, 1.3333333333333333], 4: [2, 3.0], 5: [2, 3.0]}\n",
      "\n",
      "# list of lists, nodes first:\n",
      "[[1, 0.0], [2, 4.0], [3, 1.3333333333333333], [2, 3.0], [2, 3.0]]\n",
      "\n",
      "# list of lists, stats first:\n",
      "[[1, 2, 3, 2, 2], [0.0, 4.0, 1.3333333333333333, 3.0, 3.0]]\n",
      "\n",
      "# list of dicts:\n",
      "[{'clustering': 0.0, 'degree': 1},\n",
      " {'clustering': 4.0, 'degree': 2},\n",
      " {'clustering': 1.3333333333333333, 'degree': 3},\n",
      " {'clustering': 3.0, 'degree': 2},\n",
      " {'clustering': 3.0, 'degree': 2}]\n"
     ]
    }
   ],
   "source": [
    "ms = H.nodes.multi([\"degree\", \"clustering_coefficient\"])\n",
    "\n",
    "from pprint import pprint\n",
    "\n",
    "print(\"# dict of dicts, nodes first:\")\n",
    "pprint(ms.asdict())\n",
    "print()\n",
    "print(\"# dict of dicts, stats first:\")\n",
    "pprint(ms.asdict(transpose=True))\n",
    "print()\n",
    "print(\"# dict of lists:\")\n",
    "pprint(ms.asdict(list))\n",
    "print()\n",
    "print(\"# list of lists, nodes first:\")\n",
    "pprint(ms.aslist())\n",
    "print()\n",
    "print(\"# list of lists, stats first:\")\n",
    "pprint(ms.aslist(transpose=True))\n",
    "print()\n",
    "print(\"# list of dicts:\")\n",
    "pprint(ms.aslist(dict))"
   ]
  },
  {
   "cell_type": "markdown",
   "id": "6e93c31d",
   "metadata": {},
   "source": [
    "## Multiple statistics: dataframes"
   ]
  },
  {
   "cell_type": "markdown",
   "id": "1212402b",
   "metadata": {},
   "source": [
    "`MultiNodeStat` objects can immediately be output as a Pandas dataframe."
   ]
  },
  {
   "cell_type": "code",
   "execution_count": 31,
   "id": "250d2808",
   "metadata": {},
   "outputs": [
    {
     "data": {
      "text/html": [
       "<div>\n",
       "<style scoped>\n",
       "    .dataframe tbody tr th:only-of-type {\n",
       "        vertical-align: middle;\n",
       "    }\n",
       "\n",
       "    .dataframe tbody tr th {\n",
       "        vertical-align: top;\n",
       "    }\n",
       "\n",
       "    .dataframe thead th {\n",
       "        text-align: right;\n",
       "    }\n",
       "</style>\n",
       "<table border=\"1\" class=\"dataframe\">\n",
       "  <thead>\n",
       "    <tr style=\"text-align: right;\">\n",
       "      <th></th>\n",
       "      <th>degree</th>\n",
       "      <th>clustering</th>\n",
       "    </tr>\n",
       "  </thead>\n",
       "  <tbody>\n",
       "    <tr>\n",
       "      <th>1</th>\n",
       "      <td>1</td>\n",
       "      <td>0.000000</td>\n",
       "    </tr>\n",
       "    <tr>\n",
       "      <th>2</th>\n",
       "      <td>2</td>\n",
       "      <td>4.000000</td>\n",
       "    </tr>\n",
       "    <tr>\n",
       "      <th>3</th>\n",
       "      <td>3</td>\n",
       "      <td>1.333333</td>\n",
       "    </tr>\n",
       "    <tr>\n",
       "      <th>4</th>\n",
       "      <td>2</td>\n",
       "      <td>3.000000</td>\n",
       "    </tr>\n",
       "    <tr>\n",
       "      <th>5</th>\n",
       "      <td>2</td>\n",
       "      <td>3.000000</td>\n",
       "    </tr>\n",
       "  </tbody>\n",
       "</table>\n",
       "</div>"
      ],
      "text/plain": [
       "   degree  clustering\n",
       "1       1    0.000000\n",
       "2       2    4.000000\n",
       "3       3    1.333333\n",
       "4       2    3.000000\n",
       "5       2    3.000000"
      ]
     },
     "execution_count": 31,
     "metadata": {},
     "output_type": "execute_result"
    }
   ],
   "source": [
    "df = H.nodes.multi([\"degree\", \"clustering_coefficient\"]).aspandas()\n",
    "df"
   ]
  },
  {
   "cell_type": "markdown",
   "id": "25357b7b",
   "metadata": {},
   "source": [
    "For example, it is now easy to get the per-degree average local clustering coefficient."
   ]
  },
  {
   "cell_type": "code",
   "execution_count": 32,
   "id": "3c47eac0",
   "metadata": {},
   "outputs": [
    {
     "data": {
      "text/html": [
       "<div>\n",
       "<style scoped>\n",
       "    .dataframe tbody tr th:only-of-type {\n",
       "        vertical-align: middle;\n",
       "    }\n",
       "\n",
       "    .dataframe tbody tr th {\n",
       "        vertical-align: top;\n",
       "    }\n",
       "\n",
       "    .dataframe thead th {\n",
       "        text-align: right;\n",
       "    }\n",
       "</style>\n",
       "<table border=\"1\" class=\"dataframe\">\n",
       "  <thead>\n",
       "    <tr style=\"text-align: right;\">\n",
       "      <th></th>\n",
       "      <th>clustering</th>\n",
       "    </tr>\n",
       "    <tr>\n",
       "      <th>degree</th>\n",
       "      <th></th>\n",
       "    </tr>\n",
       "  </thead>\n",
       "  <tbody>\n",
       "    <tr>\n",
       "      <th>1</th>\n",
       "      <td>0.000000</td>\n",
       "    </tr>\n",
       "    <tr>\n",
       "      <th>2</th>\n",
       "      <td>3.333333</td>\n",
       "    </tr>\n",
       "    <tr>\n",
       "      <th>3</th>\n",
       "      <td>1.333333</td>\n",
       "    </tr>\n",
       "  </tbody>\n",
       "</table>\n",
       "</div>"
      ],
      "text/plain": [
       "        clustering\n",
       "degree            \n",
       "1         0.000000\n",
       "2         3.333333\n",
       "3         1.333333"
      ]
     },
     "execution_count": 32,
     "metadata": {},
     "output_type": "execute_result"
    }
   ],
   "source": [
    "df.groupby(\"degree\").agg(\"mean\")"
   ]
  },
  {
   "cell_type": "markdown",
   "id": "23dd596a",
   "metadata": {},
   "source": [
    "One may also immediately plot any statistics."
   ]
  },
  {
   "cell_type": "code",
   "execution_count": 33,
   "id": "d28315b8",
   "metadata": {},
   "outputs": [
    {
     "data": {
      "image/png": "[encoded data removed]",
      "text/plain": [
       "<Figure size 432x288 with 1 Axes>"
      ]
     },
     "metadata": {
      "needs_background": "light"
     },
     "output_type": "display_data"
    }
   ],
   "source": [
    "H.nodes.multi([\"degree\", \"clustering_coefficient\"]).aspandas().plot();"
   ]
  },
  {
   "cell_type": "markdown",
   "id": "977c336f",
   "metadata": {},
   "source": [
    "The `multi` method also accepts `NodeStat` objects, useful when passing arguments to each `NodeStat`, or when requesting attributes."
   ]
  },
  {
   "cell_type": "code",
   "execution_count": 34,
   "id": "a6c92003",
   "metadata": {
    "scrolled": true
   },
   "outputs": [
    {
     "data": {
      "text/html": [
       "<div>\n",
       "<style scoped>\n",
       "    .dataframe tbody tr th:only-of-type {\n",
       "        vertical-align: middle;\n",
       "    }\n",
       "\n",
       "    .dataframe tbody tr th {\n",
       "        vertical-align: top;\n",
       "    }\n",
       "\n",
       "    .dataframe thead th {\n",
       "        text-align: right;\n",
       "    }\n",
       "</style>\n",
       "<table border=\"1\" class=\"dataframe\">\n",
       "  <thead>\n",
       "    <tr style=\"text-align: right;\">\n",
       "      <th></th>\n",
       "      <th>degree</th>\n",
       "      <th>degree(order=3)</th>\n",
       "      <th>attrs(color)</th>\n",
       "    </tr>\n",
       "  </thead>\n",
       "  <tbody>\n",
       "    <tr>\n",
       "      <th>1</th>\n",
       "      <td>1</td>\n",
       "      <td>0</td>\n",
       "      <td>red</td>\n",
       "    </tr>\n",
       "    <tr>\n",
       "      <th>2</th>\n",
       "      <td>2</td>\n",
       "      <td>1</td>\n",
       "      <td>blue</td>\n",
       "    </tr>\n",
       "    <tr>\n",
       "      <th>3</th>\n",
       "      <td>3</td>\n",
       "      <td>1</td>\n",
       "      <td>yellow</td>\n",
       "    </tr>\n",
       "    <tr>\n",
       "      <th>4</th>\n",
       "      <td>2</td>\n",
       "      <td>1</td>\n",
       "      <td>red</td>\n",
       "    </tr>\n",
       "    <tr>\n",
       "      <th>5</th>\n",
       "      <td>2</td>\n",
       "      <td>1</td>\n",
       "      <td>blue</td>\n",
       "    </tr>\n",
       "  </tbody>\n",
       "</table>\n",
       "</div>"
      ],
      "text/plain": [
       "   degree  degree(order=3) attrs(color)\n",
       "1       1                0          red\n",
       "2       2                1         blue\n",
       "3       3                1       yellow\n",
       "4       2                1          red\n",
       "5       2                1         blue"
      ]
     },
     "execution_count": 34,
     "metadata": {},
     "output_type": "execute_result"
    }
   ],
   "source": [
    "H.nodes.multi([\"degree\", H.nodes.degree(order=3), H.nodes.attrs(\"color\")]).aspandas()"
   ]
  },
  {
   "cell_type": "markdown",
   "id": "7e81027f",
   "metadata": {},
   "source": [
    "## Edge statistics"
   ]
  },
  {
   "cell_type": "markdown",
   "id": "29d4aa9f",
   "metadata": {},
   "source": [
    "Every feature showcased above (lazy evaluation, type conversion, filtering, set operations, and multi objects) is supported for edge-quantity or edge-attribute mappings, via `EdgeStat` objects."
   ]
  },
  {
   "cell_type": "code",
   "execution_count": 35,
   "id": "3a43de55",
   "metadata": {},
   "outputs": [
    {
     "data": {
      "text/plain": [
       "EdgeStat('order')"
      ]
     },
     "execution_count": 35,
     "metadata": {},
     "output_type": "execute_result"
    }
   ],
   "source": [
    "H.edges.order"
   ]
  },
  {
   "cell_type": "code",
   "execution_count": 36,
   "id": "9e708cda",
   "metadata": {},
   "outputs": [
    {
     "data": {
      "text/plain": [
       "{0: 2, 1: 3, 2: 2}"
      ]
     },
     "execution_count": 36,
     "metadata": {},
     "output_type": "execute_result"
    }
   ],
   "source": [
    "H.edges.order.asdict()"
   ]
  },
  {
   "cell_type": "code",
   "execution_count": 37,
   "id": "29154c7e",
   "metadata": {},
   "outputs": [
    {
     "data": {
      "text/plain": [
       "EdgeView((1,))"
      ]
     },
     "execution_count": 37,
     "metadata": {},
     "output_type": "execute_result"
    }
   ],
   "source": [
    "H.edges.filterby(\"order\", 3)"
   ]
  },
  {
   "cell_type": "code",
   "execution_count": 38,
   "id": "6b319bfc",
   "metadata": {},
   "outputs": [
    {
     "data": {
      "text/html": [
       "<div>\n",
       "<style scoped>\n",
       "    .dataframe tbody tr th:only-of-type {\n",
       "        vertical-align: middle;\n",
       "    }\n",
       "\n",
       "    .dataframe tbody tr th {\n",
       "        vertical-align: top;\n",
       "    }\n",
       "\n",
       "    .dataframe thead th {\n",
       "        text-align: right;\n",
       "    }\n",
       "</style>\n",
       "<table border=\"1\" class=\"dataframe\">\n",
       "  <thead>\n",
       "    <tr style=\"text-align: right;\">\n",
       "      <th></th>\n",
       "      <th>order</th>\n",
       "      <th>size</th>\n",
       "    </tr>\n",
       "  </thead>\n",
       "  <tbody>\n",
       "    <tr>\n",
       "      <th>0</th>\n",
       "      <td>2</td>\n",
       "      <td>3</td>\n",
       "    </tr>\n",
       "    <tr>\n",
       "      <th>1</th>\n",
       "      <td>3</td>\n",
       "      <td>4</td>\n",
       "    </tr>\n",
       "    <tr>\n",
       "      <th>2</th>\n",
       "      <td>2</td>\n",
       "      <td>3</td>\n",
       "    </tr>\n",
       "  </tbody>\n",
       "</table>\n",
       "</div>"
      ],
      "text/plain": [
       "   order  size\n",
       "0      2     3\n",
       "1      3     4\n",
       "2      2     3"
      ]
     },
     "execution_count": 38,
     "metadata": {},
     "output_type": "execute_result"
    }
   ],
   "source": [
    "H.edges.multi([\"order\", \"size\"]).aspandas()"
   ]
  },
  {
   "cell_type": "markdown",
   "id": "82b3317f",
   "metadata": {},
   "source": [
    "## User-defined statistics"
   ]
  },
  {
   "cell_type": "markdown",
   "id": "98b06d7d",
   "metadata": {},
   "source": [
    "Suppose during the course of your research you come up with a new node-level statistic. For the purpose of this tutorial, we are going to define a statistic called `user_degree`. The `user_degree` of a node is simply its standard degree times 10.\n",
    "\n",
    "Since this is also a node-quantity mapping, we would like to give it the same interface as `degree` and all the other `NodeStat`s. The stats package provides a simple way to do this. Simply use the `nodestat_func` decorator."
   ]
  },
  {
   "cell_type": "code",
   "execution_count": 39,
   "id": "fec60de5",
   "metadata": {},
   "outputs": [],
   "source": [
    "@xgi.nodestat_func\n",
    "def user_degree(net, bunch):\n",
    "    \"\"\"The user degree of a bunch of nodes in net.\"\"\"\n",
    "    return {n: 10 * net.degree(n) for n in bunch}"
   ]
  },
  {
   "cell_type": "markdown",
   "id": "b0be4a0d",
   "metadata": {},
   "source": [
    "Now `user_degree` is a valid stat that can be computed on any hypergraph:"
   ]
  },
  {
   "cell_type": "code",
   "execution_count": 40,
   "id": "7409ae74",
   "metadata": {},
   "outputs": [
    {
     "data": {
      "text/plain": [
       "{1: 10, 2: 20, 3: 30, 4: 20, 5: 20}"
      ]
     },
     "execution_count": 40,
     "metadata": {},
     "output_type": "execute_result"
    }
   ],
   "source": [
    "H.nodes.user_degree.asdict()"
   ]
  },
  {
   "cell_type": "markdown",
   "id": "65f4b7bf",
   "metadata": {},
   "source": [
    "Every single feature showcased above is available for use with `user_degree`, including filtering nodes and multi stats objects."
   ]
  },
  {
   "cell_type": "code",
   "execution_count": 41,
   "id": "314751dc",
   "metadata": {},
   "outputs": [
    {
     "data": {
      "text/plain": [
       "NodeView((2, 4, 5))"
      ]
     },
     "execution_count": 41,
     "metadata": {},
     "output_type": "execute_result"
    }
   ],
   "source": [
    "H.nodes.filterby(\"user_degree\", 20)"
   ]
  },
  {
   "cell_type": "code",
   "execution_count": 42,
   "id": "7ae354dd",
   "metadata": {},
   "outputs": [
    {
     "data": {
      "text/html": [
       "<div>\n",
       "<style scoped>\n",
       "    .dataframe tbody tr th:only-of-type {\n",
       "        vertical-align: middle;\n",
       "    }\n",
       "\n",
       "    .dataframe tbody tr th {\n",
       "        vertical-align: top;\n",
       "    }\n",
       "\n",
       "    .dataframe thead th {\n",
       "        text-align: right;\n",
       "    }\n",
       "</style>\n",
       "<table border=\"1\" class=\"dataframe\">\n",
       "  <thead>\n",
       "    <tr style=\"text-align: right;\">\n",
       "      <th></th>\n",
       "      <th>degree</th>\n",
       "      <th>user_degree</th>\n",
       "    </tr>\n",
       "  </thead>\n",
       "  <tbody>\n",
       "    <tr>\n",
       "      <th>1</th>\n",
       "      <td>1</td>\n",
       "      <td>10</td>\n",
       "    </tr>\n",
       "    <tr>\n",
       "      <th>2</th>\n",
       "      <td>2</td>\n",
       "      <td>20</td>\n",
       "    </tr>\n",
       "    <tr>\n",
       "      <th>3</th>\n",
       "      <td>3</td>\n",
       "      <td>30</td>\n",
       "    </tr>\n",
       "    <tr>\n",
       "      <th>4</th>\n",
       "      <td>2</td>\n",
       "      <td>20</td>\n",
       "    </tr>\n",
       "    <tr>\n",
       "      <th>5</th>\n",
       "      <td>2</td>\n",
       "      <td>20</td>\n",
       "    </tr>\n",
       "  </tbody>\n",
       "</table>\n",
       "</div>"
      ],
      "text/plain": [
       "   degree  user_degree\n",
       "1       1           10\n",
       "2       2           20\n",
       "3       3           30\n",
       "4       2           20\n",
       "5       2           20"
      ]
     },
     "execution_count": 42,
     "metadata": {},
     "output_type": "execute_result"
    }
   ],
   "source": [
    "H.nodes.multi([\"degree\", \"user_degree\"]).aspandas()"
   ]
  },
  {
   "cell_type": "markdown",
   "id": "432346e6",
   "metadata": {},
   "source": [
    "The `@xgi.nodestat_func` decorator works on any function or callable that admits two parameters: `net` and `bunch`, where `net` is the network and `bunch` is an iterable of nodes in `net`. Additionally, the function must return a dictionary with pairs of the form `node: value`, where `node` is an element of `bunch`. The library will take care of type conversions, but the output value of this function must always be a dict."
   ]
  },
  {
   "cell_type": "markdown",
   "id": "60251fad",
   "metadata": {},
   "source": [
    "User-defined edge statistics can similarly be defined using the `@xgi.edgestat` decorator."
   ]
  },
  {
   "cell_type": "code",
   "execution_count": null,
   "id": "f4458166",
   "metadata": {},
   "outputs": [],
   "source": []
  }
 ],
 "metadata": {
  "kernelspec": {
   "display_name": "Python 3.10.6 ('venv': venv)",
   "language": "python",
   "name": "python3"
  },
  "language_info": {
   "codemirror_mode": {
    "name": "ipython",
    "version": 3
   },
   "file_extension": ".py",
   "mimetype": "text/x-python",
   "name": "python",
   "nbconvert_exporter": "python",
   "pygments_lexer": "ipython3",
   "version": "3.10.6"
  },
  "vscode": {
   "interpreter": {
    "hash": "78db47bee367e3fae825d59af43d695909ce208402094df58551906768c6e91c"
   }
  }
 },
 "nbformat": 4,
 "nbformat_minor": 5
}
