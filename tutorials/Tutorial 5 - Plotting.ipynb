{
 "cells": [
  {
   "cell_type": "markdown",
   "id": "2f6ce3a3",
   "metadata": {},
   "source": [
    "# Visualizing hypergraphs\n",
    "As for pairwise networks, visualizing hypergraphs is surely a hard task and no algorithm can exaustively work for any given input structure. Here we show how to visualize some toy structures using the visualization function contained in the ```drawing``` module that heavily relies on [networkx](https://networkx.org/documentation/stable/reference/drawing.html) and [matplotlib](https://matplotlib.org/)."
   ]
  },
  {
   "cell_type": "code",
   "execution_count": null,
   "id": "f9ca745a",
   "metadata": {},
   "outputs": [],
   "source": [
    "import matplotlib.pyplot as plt\n",
    "import numpy as np\n",
    "import random\n",
    "import xgi"
   ]
  },
  {
   "cell_type": "markdown",
   "id": "079db54c",
   "metadata": {},
   "source": [
    "Les us first create a small toy hypergraph containing edges of different sizes."
   ]
  },
  {
   "cell_type": "code",
   "execution_count": null,
   "id": "b014762e",
   "metadata": {},
   "outputs": [],
   "source": [
    "H = xgi.Hypergraph()\n",
    "H.add_edges_from(\n",
    "    [[1, 2, 3], [3, 4, 5], [3, 6], [6, 7, 8, 9], [1, 4, 10, 11, 12], [1, 4]]\n",
    ")"
   ]
  },
  {
   "cell_type": "markdown",
   "id": "6e1c844a",
   "metadata": {},
   "source": [
    "The first step for drawing a hypergraph is to choose a layout for the nodes.\n",
    "At the moment the available layouts are:\n",
    "* ```random_layout```: to position nodes uniformly at random in the unit square ([exactly as networkx](https://networkx.org/documentation/stable/reference/generated/networkx.drawing.layout.random_layout.html)).\n",
    "* ```pairwise_spring_layout```: to position the nodes using the Fruchterman-Reingold force-directed algorithm on the projected graph. In this case the hypergraph is first projected into a graph (1-skeleton) using the ```xgi.convert_to_graph(H)``` function and then networkx's [spring_layout](https://networkx.org/documentation/stable/reference/generated/networkx.drawing.layout.spring_layout.html) is applied. \n",
    "* ```barycenter_spring_layout```: to position the nodes using the Fruchterman-Reingold force-directed algorithm using an augmented version of the the graph projection of the hypergraph, where _phantom nodes_ (that we call barycenters) are created for each edge of order $d>1$ (composed by more than two nodes). Weights are then assigned to all hyperedges of order 1 (links) and to all connections to phantom nodes within each hyperedge to keep them together. Weights scale with the size of the hyperedges. Finally, the weighted version of networkx's [spring_layout](https://networkx.org/documentation/stable/reference/generated/networkx.drawing.layout.spring_layout.html) is applied.\n",
    "* ```weighted_barycenter_spring_layout```: same as ```barycenter_spring_layout``, but here the weighted version of the Fruchterman-Reingold force-directed algorithm is used. Weights are assigned to all hyperedges of order 1 (links) and\n",
    "    to all connections to phantom nodes within each hyperedge to keep them together. Weights scale with the order of the group interaction.\n",
    "    \n",
    "Each layout returns a dictionary that maps nodes ID into (x, y) coordinates."
   ]
  },
  {
   "cell_type": "code",
   "execution_count": null,
   "id": "55510a19",
   "metadata": {},
   "outputs": [],
   "source": [
    "pos = xgi.barycenter_spring_layout(H)"
   ]
  },
  {
   "cell_type": "markdown",
   "id": "9b331cf1",
   "metadata": {},
   "source": [
    "We can now pass the ```pos``` dictionary to the ```drawing``` function:"
   ]
  },
  {
   "cell_type": "code",
   "execution_count": null,
   "id": "4e403c81",
   "metadata": {},
   "outputs": [],
   "source": [
    "xgi.draw(H, pos)"
   ]
  },
  {
   "cell_type": "markdown",
   "id": "7895f303",
   "metadata": {},
   "source": [
    "**Colors of the hyperedges** match the hyperedge size by default, but any statistic can be used to color it as well. The default colormap can be changed by updating the default arguments. Both sequential and qualitative [colormaps](https://matplotlib.org/stable/tutorials/colors/colormaps.html) can be passed as an argument. Sequential colormaps would simply be discretized according to the sizes of the provided hypergraph:"
   ]
  },
  {
   "cell_type": "code",
   "execution_count": null,
   "id": "26dc7120",
   "metadata": {},
   "outputs": [],
   "source": [
    "plt.figure(figsize=(10, 4))\n",
    "\n",
    "# Sequential colormap\n",
    "cmap = plt.cm.Paired\n",
    "\n",
    "ax = plt.subplot(1, 2, 1)\n",
    "xgi.draw(H, pos, ax=ax, edge_face_colormap=cmap)\n",
    "\n",
    "# Qualitative colormap\n",
    "cmap = plt.cm.Purples\n",
    "\n",
    "ax = plt.subplot(1, 2, 2)\n",
    "xgi.draw(H, pos, ax=ax, edge_face_colormap=cmap)"
   ]
  },
  {
   "cell_type": "markdown",
   "id": "ab3ad98e",
   "metadata": {},
   "source": [
    "Some other parameters can be tweaked as well:"
   ]
  },
  {
   "cell_type": "code",
   "execution_count": null,
   "id": "1acfe9a6",
   "metadata": {},
   "outputs": [],
   "source": [
    "cmap = plt.cm.Reds\n",
    "edge_lc = \"gray\"\n",
    "edge_lw = 4\n",
    "node_fc = \"black\"\n",
    "node_ec = \"white\"\n",
    "node_lw = 2\n",
    "node_size = 20\n",
    "\n",
    "xgi.draw(\n",
    "    H,\n",
    "    pos,\n",
    "    edge_lc=edge_lc,\n",
    "    edge_lw=edge_lw,\n",
    "    node_fc=node_fc,\n",
    "    node_ec=node_ec,\n",
    "    node_lw=node_lw,\n",
    "    node_size=node_size,\n",
    "    edge_face_colormap=cmap,\n",
    ")"
   ]
  },
  {
   "cell_type": "markdown",
   "id": "d74eb070",
   "metadata": {},
   "source": [
    "# Visualizing simplicial complexes"
   ]
  },
  {
   "cell_type": "markdown",
   "id": "08b10904",
   "metadata": {},
   "source": [
    "Simplicial complexes can be visualized using the same functions for node layout and drawing.\n",
    "\n",
    "### Technical note\n",
    "By definition, a simplicial complex object contains all sub-simplices. This would make the visualization heavy since all sub-simplices contained in a maximal simplex would overlap. The automatic solution for this, implemented by default in all the layouts, is to convert the simplicial complex into a hypergraph composed by solely by its maximal simplices.\n",
    "\n",
    "### Visual note\n",
    "To visually distinguish simplicial complexes from hypergraphs, the ```draw``` function will also show all links contained in each maximal simplices (while omitting simplices of intermediate orders). "
   ]
  },
  {
   "cell_type": "code",
   "execution_count": null,
   "id": "6f04461d",
   "metadata": {},
   "outputs": [],
   "source": [
    "SC = xgi.SimplicialComplex()\n",
    "SC.add_simplices_from([[3, 4, 5], [3, 6], [6, 7, 8, 9], [1, 4, 10, 11, 12], [1, 4]])"
   ]
  },
  {
   "cell_type": "code",
   "execution_count": null,
   "id": "895bf3d3",
   "metadata": {},
   "outputs": [],
   "source": [
    "pos = xgi.pairwise_spring_layout(SC)"
   ]
  },
  {
   "cell_type": "code",
   "execution_count": null,
   "id": "2b8edb7d",
   "metadata": {},
   "outputs": [],
   "source": [
    "xgi.draw(SC, pos)"
   ]
  },
  {
   "cell_type": "markdown",
   "id": "b5a66cba",
   "metadata": {},
   "source": [
    "# Example: generative model\n",
    "We generate and visualize a [random hypergraph](https://doi.org/10.1093/comnet/cnx001)."
   ]
  },
  {
   "cell_type": "code",
   "execution_count": null,
   "id": "aadc6917",
   "metadata": {},
   "outputs": [],
   "source": [
    "n = 100\n",
    "is_connected = False\n",
    "while not is_connected:\n",
    "    H = xgi.random_hypergraph(n, [0.03, 0.0002, 0.00001])\n",
    "    is_connected = xgi.is_connected(H)\n",
    "pos = xgi.barycenter_spring_layout(H)"
   ]
  },
  {
   "cell_type": "markdown",
   "id": "d438f01e",
   "metadata": {},
   "source": [
    "Since there are more nodes we reduce the ```node_size```"
   ]
  },
  {
   "cell_type": "code",
   "execution_count": null,
   "id": "f840930c",
   "metadata": {},
   "outputs": [],
   "source": [
    "plt.figure(figsize=(10, 10))\n",
    "ax = plt.subplot(111)\n",
    "xgi.draw(H, pos, node_size=10, ax=ax)"
   ]
  },
  {
   "cell_type": "markdown",
   "id": "39e2d438",
   "metadata": {},
   "source": [
    "We can even size/color the nodes and edges by NodeStats or EdgeStats (e.g., degree, centrality, size, etc.)!"
   ]
  },
  {
   "cell_type": "code",
   "execution_count": null,
   "id": "03902a8e",
   "metadata": {},
   "outputs": [],
   "source": [
    "plt.figure(figsize=(10, 10))\n",
    "ax = plt.subplot(111)\n",
    "xgi.draw(\n",
    "    H,\n",
    "    pos,\n",
    "    node_size=H.nodes.degree,\n",
    "    node_lw=H.nodes.degree,\n",
    "    node_fc=H.nodes.cec_centrality,\n",
    "    edge_fc=H.edges.node_edge_centrality,\n",
    "    ax=ax,\n",
    ")"
   ]
  },
  {
   "cell_type": "markdown",
   "id": "6c336fa8",
   "metadata": {},
   "source": [
    "### Degree\n",
    "Using its simplest (higher-order) definition, the degree is the number of hyperedges (of any size) incident on a node."
   ]
  },
  {
   "cell_type": "code",
   "execution_count": null,
   "id": "36596a26",
   "metadata": {},
   "outputs": [],
   "source": [
    "centers, heights = xgi.degree_histogram(H)\n",
    "\n",
    "plt.figure(figsize=(12, 4))\n",
    "ax = plt.subplot(111)\n",
    "\n",
    "ax.bar(centers, heights)\n",
    "ax.set_ylabel(\"Count\")\n",
    "ax.set_xlabel(\"Degree\")\n",
    "ax.set_xticks(np.arange(1, max(centers) + 1, step=1));"
   ]
  }
 ],
 "metadata": {
  "kernelspec": {
   "display_name": "Python 3.10.4 ('hypergraph')",
   "language": "python",
   "name": "python3"
  },
  "language_info": {
   "codemirror_mode": {
    "name": "ipython",
    "version": 3
   },
   "file_extension": ".py",
   "mimetype": "text/x-python",
   "name": "python",
   "nbconvert_exporter": "python",
   "pygments_lexer": "ipython3",
   "version": "3.10.4"
  },
  "vscode": {
   "interpreter": {
    "hash": "fdeb83b6e5b2333358b6ba79181fac315f1a722b4574d7079c134c9ae27f7c53"
   }
  }
 },
 "nbformat": 4,
 "nbformat_minor": 5
}
