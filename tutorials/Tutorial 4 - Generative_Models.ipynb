{
 "cells": [
  {
   "cell_type": "markdown",
   "metadata": {},
   "source": [
    "# Generative Models\n",
    "\n",
    "The `generators` module provides functionality to generate common models of hypergraphs, both non-uniform and uniform."
   ]
  },
  {
   "cell_type": "code",
   "execution_count": 1,
   "metadata": {
    "ExecuteTime": {
     "end_time": "2022-04-19T14:07:22.520142Z",
     "start_time": "2022-04-19T14:07:21.817268Z"
    }
   },
   "outputs": [],
   "source": [
    "import xgi\n",
    "import numpy as np\n",
    "import random"
   ]
  },
  {
   "cell_type": "markdown",
   "metadata": {
    "ExecuteTime": {
     "end_time": "2022-04-15T15:05:53.253396Z",
     "start_time": "2022-04-15T15:05:53.201681Z"
    }
   },
   "source": [
    "## Hypergraph generative models"
   ]
  },
  {
   "cell_type": "markdown",
   "metadata": {},
   "source": [
    "### Uniform configuration model"
   ]
  },
  {
   "cell_type": "code",
   "execution_count": 2,
   "metadata": {
    "ExecuteTime": {
     "end_time": "2022-04-19T14:07:22.631699Z",
     "start_time": "2022-04-19T14:07:22.522897Z"
    }
   },
   "outputs": [
    {
     "name": "stderr",
     "output_type": "stream",
     "text": [
      "/Users/lordgrilo/Dropbox (ISI Foundation)/development/xgi-local/xgi-repo/xgi/generators/uniform.py:61: UserWarning: This degree sequence is not realizable. Increasing the degree of random nodes so that it is.\n",
      "  warnings.warn(\n"
     ]
    }
   ],
   "source": [
    "n = 1000\n",
    "m = 3\n",
    "k = {i: random.randint(10, 30) for i in range(n)}\n",
    "H = xgi.uniform_hypergraph_configuration_model(k, m)"
   ]
  },
  {
   "cell_type": "markdown",
   "metadata": {},
   "source": [
    "### Erdős–Rényi model"
   ]
  },
  {
   "cell_type": "code",
   "execution_count": 3,
   "metadata": {
    "ExecuteTime": {
     "end_time": "2022-04-19T14:07:43.552393Z",
     "start_time": "2022-04-19T14:07:22.633870Z"
    }
   },
   "outputs": [],
   "source": [
    "n = 1000\n",
    "ps = [0.01, 0.001]\n",
    "H = xgi.random_hypergraph(n, ps)"
   ]
  },
  {
   "cell_type": "markdown",
   "metadata": {},
   "source": [
    "### Non-uniform configuration model"
   ]
  },
  {
   "cell_type": "code",
   "execution_count": 4,
   "metadata": {
    "ExecuteTime": {
     "end_time": "2022-04-19T14:07:43.776922Z",
     "start_time": "2022-04-19T14:07:43.556699Z"
    }
   },
   "outputs": [],
   "source": [
    "n = 1000\n",
    "k1 = {i: random.randint(10, 30) for i in range(n)}\n",
    "k2 = {i: sorted(k1.values())[i] for i in range(n)}\n",
    "H = xgi.chung_lu_hypergraph(k1, k2)"
   ]
  },
  {
   "cell_type": "markdown",
   "metadata": {},
   "source": [
    "### Non-uniform DCSBM hypergraph"
   ]
  },
  {
   "cell_type": "code",
   "execution_count": 5,
   "metadata": {
    "ExecuteTime": {
     "end_time": "2022-04-19T14:07:43.898586Z",
     "start_time": "2022-04-19T14:07:43.778367Z"
    }
   },
   "outputs": [
    {
     "name": "stderr",
     "output_type": "stream",
     "text": [
      "/Users/lordgrilo/Dropbox (ISI Foundation)/development/xgi-local/xgi-repo/xgi/generators/nonuniform.py:186: UserWarning: The sum of the degree sequence does not match the entries in the omega matrix\n",
      "  warnings.warn(\n"
     ]
    }
   ],
   "source": [
    "n = 1000\n",
    "k1 = {i: random.randint(1, 100) for i in range(n)}\n",
    "k2 = {i: sorted(k1.values())[i] for i in range(n)}\n",
    "g1 = {i: random.choice([0, 1]) for i in range(n)}\n",
    "g2 = {i: random.choice([0, 1]) for i in range(n)}\n",
    "omega = np.array([[100, 10], [10, 100]])\n",
    "H = xgi.dcsbm_hypergraph(k1, k2, g1, g2, omega)"
   ]
  },
  {
   "cell_type": "markdown",
   "metadata": {},
   "source": [
    "## Simplicial Complex Generative Models"
   ]
  },
  {
   "cell_type": "markdown",
   "metadata": {},
   "source": [
    "### Random simplicial complex model \n",
    "(from Iacopini et al. 2019)\n",
    "\n",
    "Given $n$ nodes and a vector of probabilities $\\vec{p} = [p_1, p_2, \\ldots, p_{d}$], where $d$ is the maximal \n",
    "simplex dimension desired, the model creates simplices at each dimension with the corresponding probability ($p_1$ for edges, $p_2$ for 2-simplices, etc). "
   ]
  },
  {
   "cell_type": "code",
   "execution_count": 6,
   "metadata": {
    "ExecuteTime": {
     "end_time": "2022-04-19T14:08:30.674073Z",
     "start_time": "2022-04-19T14:07:43.902158Z"
    }
   },
   "outputs": [],
   "source": [
    "n = 20\n",
    "ps = [0.1, 0.2, 0.1]\n",
    "SC = xgi.random_simplicial_complex(n, ps)"
   ]
  },
  {
   "cell_type": "markdown",
   "metadata": {
    "ExecuteTime": {
     "end_time": "2022-04-15T15:10:54.730481Z",
     "start_time": "2022-04-15T15:10:54.671334Z"
    }
   },
   "source": [
    "### Random flag complex model in 2D\n",
    "The model creates an Erdos-Renyi network with $n$ nodes and probability $p$ for any pair of edges. \n",
    "It then promotes all 3-cliques to 2-simplices. "
   ]
  },
  {
   "cell_type": "code",
   "execution_count": 7,
   "metadata": {
    "ExecuteTime": {
     "end_time": "2022-04-19T14:08:30.726942Z",
     "start_time": "2022-04-19T14:08:30.678037Z"
    }
   },
   "outputs": [],
   "source": [
    "n = 50\n",
    "p = 0.1\n",
    "SC = xgi.random_flag_complex_d2(n, p)"
   ]
  },
  {
   "cell_type": "markdown",
   "metadata": {
    "ExecuteTime": {
     "end_time": "2022-04-15T15:22:14.760787Z",
     "start_time": "2022-04-15T15:22:14.758381Z"
    }
   },
   "source": [
    "### Generalized random flag complex model "
   ]
  },
  {
   "cell_type": "code",
   "execution_count": 8,
   "metadata": {
    "ExecuteTime": {
     "end_time": "2022-04-19T14:08:30.765725Z",
     "start_time": "2022-04-19T14:08:30.729327Z"
    }
   },
   "outputs": [],
   "source": [
    "n = 30\n",
    "p = 0.2\n",
    "SC = xgi.random_flag_complex(n, p, max_order=3)"
   ]
  },
  {
   "cell_type": "markdown",
   "metadata": {
    "ExecuteTime": {
     "end_time": "2022-04-19T13:36:59.648427Z",
     "start_time": "2022-04-19T13:36:59.643510Z"
    }
   },
   "source": [
    "### Flag complex from graph\n",
    "It is also possible to construct flag (clique) complexes starting from an existing network. \n",
    "Of course, let's show this using Zachary's Karate club and including simplices up to te"
   ]
  },
  {
   "cell_type": "code",
   "execution_count": 11,
   "metadata": {
    "ExecuteTime": {
     "end_time": "2022-04-19T14:08:56.425493Z",
     "start_time": "2022-04-19T14:08:56.355851Z"
    }
   },
   "outputs": [],
   "source": [
    "import networkx as nx\n",
    "\n",
    "G = nx.karate_club_graph()\n",
    "\n",
    "SC_KC = xgi.flag_complex(G, max_order=3)"
   ]
  }
 ],
 "metadata": {
  "interpreter": {
   "hash": "e8c90be8a507c947d600755d98ec41f3a8064ae1d46b0505dd1a3ad2a7800759"
  },
  "kernelspec": {
   "display_name": "pyenv3.8",
   "language": "python",
   "name": "pyenv3.8"
  },
  "language_info": {
   "codemirror_mode": {
    "name": "ipython",
    "version": 3
   },
   "file_extension": ".py",
   "mimetype": "text/x-python",
   "name": "python",
   "nbconvert_exporter": "python",
   "pygments_lexer": "ipython3",
   "version": "3.8.13"
  },
  "toc": {
   "base_numbering": 1,
   "nav_menu": {},
   "number_sections": true,
   "sideBar": true,
   "skip_h1_title": false,
   "title_cell": "Table of Contents",
   "title_sidebar": "Contents",
   "toc_cell": false,
   "toc_position": {},
   "toc_section_display": true,
   "toc_window_display": false
  }
 },
 "nbformat": 4,
 "nbformat_minor": 2
}
