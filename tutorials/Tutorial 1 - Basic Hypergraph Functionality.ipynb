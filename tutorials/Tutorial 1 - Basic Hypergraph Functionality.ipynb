{
 "cells": [
  {
   "cell_type": "markdown",
   "metadata": {},
   "source": [
    "# Tutorial 1 - Loading hypergraphs and basic functionality"
   ]
  },
  {
   "cell_type": "markdown",
   "metadata": {},
   "source": [
    "This tutorial will give a brief introduction to using the XGI library to construct hypergraphs and perform basic operations on them."
   ]
  },
  {
   "cell_type": "code",
   "execution_count": 2,
   "metadata": {},
   "outputs": [],
   "source": [
    "import xgi\n",
    "import random\n",
    "import pandas as pd\n",
    "import numpy as np"
   ]
  },
  {
   "cell_type": "markdown",
   "metadata": {},
   "source": [
    "## Loading hypergraphs from different formats\n",
    "\n",
    "We handle loading hypergraphs in many different formats, but the hypergraph constructor takes five main data formats:\n",
    "* A Hypergraph object\n",
    "* A hyperedge list\n",
    "* A hyperedge dictionary\n",
    "* A 2-column pandas dataframe specifying (node, edge) bipartite edges\n",
    "* An incidence matrix (A Numpy or Scipy matrix)"
   ]
  },
  {
   "cell_type": "code",
   "execution_count": 3,
   "metadata": {},
   "outputs": [],
   "source": [
    "n = 1000\n",
    "m = 1000\n",
    "\n",
    "min_edge_size = 2\n",
    "max_edge_size = 25\n",
    "\n",
    "# hyperedge list\n",
    "hyperedge_list = [\n",
    "    random.sample(range(n), random.choice(range(min_edge_size, max_edge_size + 1)))\n",
    "    for i in range(m)\n",
    "]\n",
    "\n",
    "# hyperedge dict\n",
    "hyperedge_dict = {\n",
    "    i: random.sample(range(n), random.choice(range(min_edge_size, max_edge_size + 1)))\n",
    "    for i in range(m)\n",
    "}\n",
    "\n",
    "# pandas dataframe\n",
    "df = xgi.to_bipartite_pandas_dataframe(xgi.load_xgi_data(\"email-enron\"))\n",
    "\n",
    "# incidence matrix\n",
    "incidence_matrix = np.random.randint(0, high=2, size=(n, m), dtype=int)"
   ]
  },
  {
   "cell_type": "markdown",
   "metadata": {},
   "source": [
    "### Loading a hyperedge list\n",
    "\n",
    "When a user gives a hyperedge list, the system automatically creates system edge IDs."
   ]
  },
  {
   "cell_type": "code",
   "execution_count": 3,
   "metadata": {},
   "outputs": [
    {
     "name": "stdout",
     "output_type": "stream",
     "text": [
      "The hypergraph has 1000 nodes and 1000 edges\n"
     ]
    }
   ],
   "source": [
    "H = xgi.Hypergraph(hyperedge_list)\n",
    "print(f\"The hypergraph has {H.num_nodes} nodes and {H.num_edges} edges\")"
   ]
  },
  {
   "cell_type": "markdown",
   "metadata": {},
   "source": [
    "### Loading a hyperedge dictionary\n",
    "\n",
    "When a user gives a hyperedge dictionary, the system uses the edge IDs specified in the dictionary."
   ]
  },
  {
   "cell_type": "code",
   "execution_count": 4,
   "metadata": {},
   "outputs": [
    {
     "name": "stdout",
     "output_type": "stream",
     "text": [
      "The hypergraph has 1000 nodes and 1000 edges\n"
     ]
    }
   ],
   "source": [
    "H = xgi.Hypergraph(hyperedge_dict)\n",
    "print(f\"The hypergraph has {H.num_nodes} nodes and {H.num_edges} edges\")"
   ]
  },
  {
   "cell_type": "markdown",
   "metadata": {},
   "source": [
    "### Loading an incidence matrix\n",
    "\n",
    "When a user gives an incidence matrix, the system transforms the non-zero entries into lists of rows and columns specifying a bipartite edge list."
   ]
  },
  {
   "cell_type": "code",
   "execution_count": 5,
   "metadata": {},
   "outputs": [
    {
     "name": "stdout",
     "output_type": "stream",
     "text": [
      "The hypergraph has 1000 nodes and 1000 edges\n"
     ]
    }
   ],
   "source": [
    "H = xgi.Hypergraph(incidence_matrix)\n",
    "print(f\"The hypergraph has {H.num_nodes} nodes and {H.num_edges} edges\")"
   ]
  },
  {
   "cell_type": "markdown",
   "metadata": {},
   "source": [
    "### Loading a Pandas dataframe\n",
    "When a user gives a Pandas dataframe, the system automatically imports the first two columns as lists of node and edge indices specifying a bipartite edge list."
   ]
  },
  {
   "cell_type": "code",
   "execution_count": 6,
   "metadata": {},
   "outputs": [
    {
     "name": "stdout",
     "output_type": "stream",
     "text": [
      "The hypergraph has 12368 nodes and 2261 edges\n"
     ]
    }
   ],
   "source": [
    "H = xgi.Hypergraph(df)\n",
    "print(f\"The hypergraph has {H.num_nodes} nodes and {H.num_edges} edges\")"
   ]
  },
  {
   "cell_type": "markdown",
   "metadata": {},
   "source": [
    "## Simple functions\n",
    "\n",
    "The Hypergraph class can do simple things like\n",
    "* output an incidence matrix\n",
    "* output the adjacency matrix for s-connectedness\n",
    "* output the dual of the hypergraph\n",
    "* find if the hypergraph is connected"
   ]
  },
  {
   "cell_type": "markdown",
   "metadata": {},
   "source": [
    "### Output relevant matrices"
   ]
  },
  {
   "cell_type": "code",
   "execution_count": 7,
   "metadata": {},
   "outputs": [],
   "source": [
    "# The incidence matrix\n",
    "I = xgi.incidence_matrix(H, sparse=True)\n",
    "# The adjacency matrix\n",
    "A = xgi.adjacency_matrix(H)\n",
    "# The clique motif matrix\n",
    "W = xgi.clique_motif_matrix(H)"
   ]
  },
  {
   "cell_type": "markdown",
   "metadata": {},
   "source": [
    "### Forming the dual"
   ]
  },
  {
   "cell_type": "code",
   "execution_count": 8,
   "metadata": {},
   "outputs": [],
   "source": [
    "D = H.dual()"
   ]
  },
  {
   "cell_type": "markdown",
   "metadata": {},
   "source": [
    "### Testing whether the hypergraph is connected"
   ]
  },
  {
   "cell_type": "code",
   "execution_count": 9,
   "metadata": {},
   "outputs": [],
   "source": [
    "n = 1000\n",
    "m = 100\n",
    "\n",
    "min_edge_size = 2\n",
    "max_edge_size = 10\n",
    "\n",
    "# hyperedge list\n",
    "hyperedge_list = [\n",
    "    random.sample(range(n), random.choice(range(min_edge_size, max_edge_size + 1)))\n",
    "    for i in range(m)\n",
    "]\n",
    "H = xgi.Hypergraph(hyperedge_list)"
   ]
  },
  {
   "cell_type": "code",
   "execution_count": 10,
   "metadata": {},
   "outputs": [
    {
     "name": "stdout",
     "output_type": "stream",
     "text": [
      "H is not connected\n",
      "The sizes of the connected components are:\n",
      "[484, 3, 3, 3, 2, 4, 4]\n",
      "The size of the component containing node 881 is 484\n"
     ]
    }
   ],
   "source": [
    "is_connected = xgi.is_connected(H)\n",
    "if is_connected:\n",
    "    print(f\"H is connected\")\n",
    "else:\n",
    "    print(f\"H is not connected\")\n",
    "\n",
    "print(f\"The sizes of the connected components are:\")\n",
    "print([len(component) for component in xgi.connected_components(H)])\n",
    "\n",
    "node = np.random.choice(H.nodes)\n",
    "print(\n",
    "    f\"The size of the component containing node {node} is {len(xgi.node_connected_component(H, node))}\"\n",
    ")"
   ]
  },
  {
   "cell_type": "markdown",
   "metadata": {},
   "source": [
    "### Constructing subhypergraphs\n",
    "\n",
    "A subhypergraph can be induced by a node subset, an edge subset, or an arbitrary combination of both. These examples are presented below."
   ]
  },
  {
   "cell_type": "code",
   "execution_count": 11,
   "metadata": {},
   "outputs": [],
   "source": [
    "# A subhypergraph induced on nodes\n",
    "node_subhypergraph = xgi.subhypergraph(H, nodes=list(range(100)))\n",
    "# A subhypergraph induced on edges\n",
    "edge_subhypergraph = xgi.subhypergraph(H, edges=list(range(100)))\n",
    "# A subhypergraph induced on both nodes and edges\n",
    "arbitrary_subhypergraph = xgi.subhypergraph(\n",
    "    H, nodes=list(range(100)), edges=list(range(100))\n",
    ")"
   ]
  },
  {
   "cell_type": "markdown",
   "metadata": {},
   "source": [
    "## Converting to other formats\n",
    "\n",
    "Below are examples showing how to convert a hypergraph to a hyperedge list, a hyperedge dict, or an incidence matrix."
   ]
  },
  {
   "cell_type": "code",
   "execution_count": 12,
   "metadata": {},
   "outputs": [],
   "source": [
    "# Convert to a hyperedge list\n",
    "h_list = xgi.to_hyperedge_list(H)\n",
    "# Convert to a hyperedge dict\n",
    "h_dict = xgi.to_hyperedge_dict(H)\n",
    "# Convert to an incidence matrix\n",
    "h_I = xgi.to_incidence_matrix(H)"
   ]
  },
  {
   "cell_type": "code",
   "execution_count": null,
   "metadata": {},
   "outputs": [],
   "source": []
  }
 ],
 "metadata": {
  "kernelspec": {
   "display_name": "hyper",
   "language": "python",
   "name": "python3"
  },
  "language_info": {
   "codemirror_mode": {
    "name": "ipython",
    "version": 3
   },
   "file_extension": ".py",
   "mimetype": "text/x-python",
   "name": "python",
   "nbconvert_exporter": "python",
   "pygments_lexer": "ipython3",
   "version": "3.10.6"
  },
  "toc": {
   "base_numbering": 1,
   "nav_menu": {},
   "number_sections": true,
   "sideBar": true,
   "skip_h1_title": false,
   "title_cell": "Table of Contents",
   "title_sidebar": "Contents",
   "toc_cell": false,
   "toc_position": {},
   "toc_section_display": true,
   "toc_window_display": false
  },
  "vscode": {
   "interpreter": {
    "hash": "d499419bfd3ffc3e3fdefe0b9d84e10a93ca5c11fd9f2ad00edb8d726bc70f5f"
   }
  }
 },
 "nbformat": 4,
 "nbformat_minor": 2
}
