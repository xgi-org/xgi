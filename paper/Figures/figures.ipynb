{
 "cells": [
  {
   "cell_type": "code",
   "execution_count": null,
   "metadata": {},
   "outputs": [],
   "source": [
    "import xgi\n",
    "import matplotlib.pyplot as plt\n",
    "import numpy as np\n",
    "import json"
   ]
  },
  {
   "cell_type": "code",
   "execution_count": null,
   "metadata": {},
   "outputs": [],
   "source": [
    "def get_position(fname, H):\n",
    "    try:\n",
    "        with open(fname, \"r\") as file:\n",
    "            pos_stored = json.loads(file.read())\n",
    "        pos = {i: np.array(p) for i, p in pos_stored.items()}\n",
    "    except:\n",
    "        pos = xgi.pairwise_spring_layout(H)\n",
    "        pos_store = {i: p.tolist() for i, p in pos.items()}\n",
    "        datastring = json.dumps(pos_store)\n",
    "\n",
    "        with open(fname, \"w\") as output_file:\n",
    "            output_file.write(datastring)\n",
    "\n",
    "    return pos\n",
    "\n",
    "def get_hypergraph(fname, epsilon):\n",
    "    try:\n",
    "        H = xgi.read_json(fname)\n",
    "    except:\n",
    "        H = xgi.load_xgi_data(\"email-enron\", max_order=2)\n",
    "        H.cleanup()\n",
    "        xgi.write_json(H, fname)\n",
    "    return H"
   ]
  },
  {
   "cell_type": "code",
   "execution_count": null,
   "metadata": {},
   "outputs": [],
   "source": [
    "H = get_hypergraph(\"data.json\", 0)\n",
    "pos = get_position(\"pos.json\", H)"
   ]
  },
  {
   "cell_type": "code",
   "execution_count": null,
   "metadata": {},
   "outputs": [],
   "source": [
    "xgi.draw(H, pos, node_size=H.nodes.node_edge_centrality, node_fc=H.nodes.degree)\n",
    "plt.savefig(\"visualization.png\", dpi=1000)"
   ]
  }
 ],
 "metadata": {
  "kernelspec": {
   "display_name": "hyper",
   "language": "python",
   "name": "python3"
  },
  "language_info": {
   "codemirror_mode": {
    "name": "ipython",
    "version": 3
   },
   "file_extension": ".py",
   "mimetype": "text/x-python",
   "name": "python",
   "nbconvert_exporter": "python",
   "pygments_lexer": "ipython3",
   "version": "3.10.0 (default, Mar  3 2022, 03:54:28) [Clang 12.0.0 ]"
  },
  "orig_nbformat": 4,
  "vscode": {
   "interpreter": {
    "hash": "006b130b0afef3e20a59d32b3e368dadb49787729b49e0c4fc1ec3e01c886557"
   }
  }
 },
 "nbformat": 4,
 "nbformat_minor": 2
}
