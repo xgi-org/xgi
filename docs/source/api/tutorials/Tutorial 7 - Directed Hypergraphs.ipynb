{
 "cells": [
  {
   "cell_type": "markdown",
   "metadata": {},
   "source": [
    "# Directed Hypergraphs"
   ]
  },
  {
   "cell_type": "code",
   "execution_count": null,
   "metadata": {},
   "outputs": [],
   "source": [
    "import matplotlib.pyplot as plt\n",
    "\n",
    "import xgi"
   ]
  },
  {
   "cell_type": "markdown",
   "metadata": {},
   "source": [
    "A *directed hypergraph* (or *dihypergraph*), is a hypergraph which keeps track of senders and receivers in a given interaction. As defined in \"Hypergraph Theory: An Introduction\" by Alain Bretto, dihypergraphs are a set of nodes and a set of directed edges.\n",
    "\n",
    "We define a directed hyperedge $\\overrightarrow{e_i} \\in E$ as an ordered pair $(e^+_i, e^-_i)$, where the *tail* of the edge, $e^+_i$, is the set of senders and the *head*, $e^-_i$, is the set of receivers. Both are subsets of the node set. We define the members of $\\overrightarrow{e_i}$ as $e_i = e^+_i \\cup e^-_i$ and the edge size as $s_i = |e_i|$. Likewise, we define the in-degree, out-degree, and degree of a node $i$ as\n",
    "$$k^{in}_i = \\sum_j^M {\\bf 1}(i \\in e^-_j),$$\n",
    "$$k^{out}_i = \\sum_j^M {\\bf 1}(i \\in e^+_j),$$\n",
    "$$k_i = \\sum_j^M {\\bf 1}(i \\in e_j),$$\n",
    "respectively, where ${\\bf 1}$ is the indicator function.\n",
    "\n",
    "These types of hypergraphs are useful for representing, for example, chemical reactions (which have reactants and products) and emails (sender and receivers).\n",
    "\n",
    "We start by building a dihypergraph."
   ]
  },
  {
   "cell_type": "markdown",
   "metadata": {},
   "source": [
    "### Building a dihypergraph\n",
    "\n",
    "We can either build a dihypergraph node-by-node and edge-by-edge, or we can initialize a dihypergraph through its constructor.\n",
    "\n",
    "We start by building a dihypergraph from the bottom up."
   ]
  },
  {
   "cell_type": "code",
   "execution_count": null,
   "metadata": {},
   "outputs": [],
   "source": [
    "DH = xgi.DiHypergraph()\n",
    "print(DH)\n",
    "\n",
    "DH.add_node(0, name=\"test\")\n",
    "DH.add_edge(\n",
    "    [{1, 2, 3}, {3, 4}]\n",
    ")  # Notice that the head and the tail need not be disjoint.\n",
    "\n",
    "DH.add_nodes_from([5, 6, 7])\n",
    "edges = [[{1, 2}, {5, 6}], [{4}, {1, 3}]]\n",
    "DH.add_edges_from(edges)\n",
    "DH[\"name\"] = \"test\"\n",
    "\n",
    "print(\"Now that we've added nodes and edges, we have a \" + str(DH))"
   ]
  },
  {
   "cell_type": "markdown",
   "metadata": {},
   "source": [
    "We can also add edge with attributes!"
   ]
  },
  {
   "cell_type": "code",
   "execution_count": null,
   "metadata": {},
   "outputs": [],
   "source": [
    "edges = [\n",
    "    (([0, 1], [1, 2]), \"one\", {\"color\": \"red\"}),\n",
    "    (([2, 3, 4], []), \"two\", {\"color\": \"blue\", \"age\": 40}),\n",
    "]\n",
    "DH.add_edges_from(edges)"
   ]
  },
  {
   "cell_type": "markdown",
   "metadata": {},
   "source": [
    "We can also use the constructor to initialize a dihypergraph:"
   ]
  },
  {
   "cell_type": "code",
   "execution_count": null,
   "metadata": {},
   "outputs": [],
   "source": [
    "# from a list\n",
    "DH1 = xgi.DiHypergraph([[{1, 2}, {5, 6}], [{4}, {1, 3}]])\n",
    "\n",
    "# from a dict\n",
    "DH2 = xgi.DiHypergraph({1: ({1, 2, 3}, {3, 4}), 2: ({1, 2}, {3})})\n",
    "\n",
    "# from another dihypergraph\n",
    "DH3 = xgi.DiHypergraph(DH1)"
   ]
  },
  {
   "cell_type": "markdown",
   "metadata": {},
   "source": [
    "### Drawing\n",
    "We can draw a dihypergraph using the function `draw_bipartite()`"
   ]
  },
  {
   "cell_type": "code",
   "execution_count": null,
   "metadata": {},
   "outputs": [],
   "source": [
    "xgi.draw_bipartite(DH1)"
   ]
  },
  {
   "cell_type": "markdown",
   "metadata": {},
   "source": [
    "### Views\n",
    "\n",
    "Nodes and edges are represented by `DiNodeView` and `DiEdgeView` respectively."
   ]
  },
  {
   "cell_type": "code",
   "execution_count": null,
   "metadata": {},
   "outputs": [],
   "source": [
    "DH.nodes"
   ]
  },
  {
   "cell_type": "code",
   "execution_count": null,
   "metadata": {},
   "outputs": [],
   "source": [
    "DH.edges"
   ]
  },
  {
   "cell_type": "markdown",
   "metadata": {},
   "source": [
    "We can access directed edges with the `dimembers()` method and the union of the head and tail with `members()`."
   ]
  },
  {
   "cell_type": "code",
   "execution_count": null,
   "metadata": {},
   "outputs": [],
   "source": [
    "print(\"Edge 0:\")\n",
    "print(DH.edges.dimembers(0))\n",
    "print(DH.edges.members(0))\n",
    "print(\"\\nThe edge list as a whole:\")\n",
    "print(DH.edges.dimembers())\n",
    "print(DH.edges.members())"
   ]
  },
  {
   "cell_type": "markdown",
   "metadata": {},
   "source": [
    "The naming convention is the same for node memberships."
   ]
  },
  {
   "cell_type": "code",
   "execution_count": null,
   "metadata": {},
   "outputs": [],
   "source": [
    "print(\"memberships for node 0:\")\n",
    "print(DH.nodes.dimemberships(0))\n",
    "print(DH.nodes.memberships(0))\n",
    "\n",
    "print(\"\\nAll node memberships:\")\n",
    "print(DH.nodes.dimemberships())\n",
    "print(DH.nodes.memberships())"
   ]
  },
  {
   "cell_type": "markdown",
   "metadata": {},
   "source": [
    "We can also access the head and tail of an edge:"
   ]
  },
  {
   "cell_type": "code",
   "execution_count": null,
   "metadata": {},
   "outputs": [],
   "source": [
    "print(\"Head and tail of edge 0:\")\n",
    "print(DH.edges.head(0))\n",
    "print(DH.edges.tail(0))\n",
    "\n",
    "print(\"\\nThe head as a whole:\")\n",
    "print(DH.edges.head())\n",
    "\n",
    "print(\"\\nThe tail as a whole:\")\n",
    "print(DH.edges.tail())"
   ]
  },
  {
   "cell_type": "markdown",
   "metadata": {},
   "source": [
    "### Stats\n",
    "\n",
    "The `DiNodeStat` and `DiEdgeStat` represent directed node and edge statistics. For nodes, we have `in_degree`, `out_degree`, and `degree` and for edges, we have `size`, `order`, `head_size`, and `tail_size`."
   ]
  },
  {
   "cell_type": "code",
   "execution_count": null,
   "metadata": {},
   "outputs": [],
   "source": [
    "s = DH.edges.size.asnumpy()\n",
    "s_in = DH.edges.head_size.asnumpy()\n",
    "s_out = DH.edges.tail_size.asnumpy()"
   ]
  },
  {
   "cell_type": "code",
   "execution_count": null,
   "metadata": {},
   "outputs": [],
   "source": [
    "plt.plot(s, label=\"edge size\")\n",
    "plt.plot(s_in, label=\"head size\")\n",
    "plt.plot(s_out, label=\"tail size\")\n",
    "plt.legend()\n",
    "plt.ylabel(\"Size\")\n",
    "plt.xlabel(\"Edge index\")\n",
    "plt.show()"
   ]
  },
  {
   "cell_type": "code",
   "execution_count": null,
   "metadata": {},
   "outputs": [],
   "source": [
    "k = DH.nodes.degree.asnumpy()\n",
    "k_in = DH.nodes.in_degree.asnumpy()\n",
    "k_out = DH.nodes.out_degree.asnumpy()"
   ]
  },
  {
   "cell_type": "code",
   "execution_count": null,
   "metadata": {},
   "outputs": [],
   "source": [
    "plt.plot(k, label=\"degree\")\n",
    "plt.plot(k_in, label=\"in-degree\")\n",
    "plt.plot(k_out, label=\"out-degree\")\n",
    "plt.legend()\n",
    "plt.ylabel(\"Degree\")\n",
    "plt.xlabel(\"Node ID\")\n",
    "plt.show()"
   ]
  },
  {
   "cell_type": "markdown",
   "metadata": {},
   "source": [
    "We can convert from dihypergraphs to hypergraphs through the constructor..."
   ]
  },
  {
   "cell_type": "code",
   "execution_count": null,
   "metadata": {},
   "outputs": [],
   "source": [
    "H = xgi.Hypergraph(DH1)\n",
    "H.edges.members()"
   ]
  },
  {
   "cell_type": "markdown",
   "metadata": {},
   "source": [
    "...or through the convert module."
   ]
  },
  {
   "cell_type": "code",
   "execution_count": null,
   "metadata": {},
   "outputs": [],
   "source": [
    "H = xgi.to_hypergraph(DH1)"
   ]
  }
 ],
 "metadata": {
  "kernelspec": {
   "display_name": "venv_xgi",
   "language": "python",
   "name": "venv_xgi"
  },
  "language_info": {
   "codemirror_mode": {
    "name": "ipython",
    "version": 3
   },
   "file_extension": ".py",
   "mimetype": "text/x-python",
   "name": "python",
   "nbconvert_exporter": "python",
   "pygments_lexer": "ipython3",
   "version": "3.9.13"
  },
  "toc": {
   "base_numbering": 1,
   "nav_menu": {},
   "number_sections": true,
   "sideBar": true,
   "skip_h1_title": false,
   "title_cell": "Table of Contents",
   "title_sidebar": "Contents",
   "toc_cell": false,
   "toc_position": {},
   "toc_section_display": true,
   "toc_window_display": true
  }
 },
 "nbformat": 4,
 "nbformat_minor": 2
}
