{
 "cells": [
  {
   "cell_type": "markdown",
   "id": "e1c5005b",
   "metadata": {},
   "source": [
    "# In Depth 3 - Drawing DiHypergraphs"
   ]
  },
  {
   "cell_type": "markdown",
   "id": "ea8aad6a",
   "metadata": {},
   "source": [
    "Here we show the fuctionalities and parameters of `xgi.draw_bipartite()`.  It is similar to the [networkx](https://networkx.org/documentation/stable/reference/drawing.html) corresponding function (+ some bonus) and heavily relies on [matplotlib](https://matplotlib.org/)'s Collection plotting."
   ]
  },
  {
   "cell_type": "code",
   "execution_count": null,
   "id": "b762703f",
   "metadata": {},
   "outputs": [],
   "source": [
    "import matplotlib.pyplot as plt\n",
    "\n",
    "import xgi"
   ]
  },
  {
   "cell_type": "markdown",
   "id": "f252027f",
   "metadata": {},
   "source": [
    "Les us first create a small toy hypergraph containing edges of different sizes."
   ]
  },
  {
   "cell_type": "code",
   "execution_count": null,
   "id": "0a032899",
   "metadata": {},
   "outputs": [],
   "source": [
    "diedges = [({0, 1}, {2}), ({1}, {4}), ({2, 3}, {4, 5})]\n",
    "DH = xgi.DiHypergraph(diedges)"
   ]
  },
  {
   "cell_type": "code",
   "execution_count": null,
   "id": "444f90d3",
   "metadata": {},
   "outputs": [],
   "source": [
    "xgi.draw_bipartite(DH)"
   ]
  },
  {
   "cell_type": "markdown",
   "id": "1c5336d3",
   "metadata": {},
   "source": [
    "## Basics"
   ]
  },
  {
   "cell_type": "markdown",
   "id": "12d7fa53",
   "metadata": {},
   "source": [
    "Notice that this function returns a tuple `(ax, collections)` where `collections` is a tuple `(node_collection, edge_node_collection)`. The collections can be used to plot colorbars as we will see later."
   ]
  },
  {
   "cell_type": "markdown",
   "id": "4e879854",
   "metadata": {},
   "source": [
    "The color, linewidth, transparancy, and style of the hyperedges can all be customised, for example with single values:"
   ]
  },
  {
   "cell_type": "code",
   "execution_count": null,
   "id": "a351af81",
   "metadata": {},
   "outputs": [],
   "source": [
    "xgi.draw_bipartite(\n",
    "    DH,\n",
    "    node_shape=\"h\",\n",
    "    node_fc=\"grey\",\n",
    "    node_ec=\"r\",\n",
    "    node_size=20,\n",
    "    edge_marker_size=20,\n",
    "    edge_marker_shape=\"p\",\n",
    "    dyad_lw=2,\n",
    "    arrowsize=10,\n",
    "    edge_marker_fc=\"b\",\n",
    "    dyad_color=\"b\",\n",
    ")"
   ]
  },
  {
   "cell_type": "markdown",
   "id": "7eb2b443",
   "metadata": {},
   "source": [
    "Or with multiple values:"
   ]
  },
  {
   "cell_type": "code",
   "execution_count": null,
   "id": "f7a86466",
   "metadata": {},
   "outputs": [],
   "source": [
    "xgi.draw_bipartite(\n",
    "    DH,\n",
    "    node_fc=[\"g\", \"grey\", \"purple\", \"coral\", \"r\", \"b\"],\n",
    "    arrowsize=20,\n",
    "    edge_marker_fc=[\"violet\", \"lightgreen\", \"skyblue\"],\n",
    "    dyad_color=\"k\",\n",
    ")"
   ]
  },
  {
   "cell_type": "markdown",
   "id": "13b388b0",
   "metadata": {},
   "source": [
    "Adding node and edge labels:"
   ]
  },
  {
   "cell_type": "code",
   "execution_count": null,
   "id": "7541fa6d",
   "metadata": {},
   "outputs": [],
   "source": [
    "xgi.draw_bipartite(\n",
    "    DH, node_labels=True, hyperedge_labels=True, node_size=15, edge_marker_size=15\n",
    ")"
   ]
  },
  {
   "cell_type": "markdown",
   "id": "310d67df",
   "metadata": {},
   "source": [
    "## Arrays of floats and colormaps"
   ]
  },
  {
   "cell_type": "markdown",
   "id": "92d32d0d",
   "metadata": {},
   "source": [
    "In XGI, you can easily color hyperedges according to an EdgeStat, or just an array or a dict with float values:"
   ]
  },
  {
   "cell_type": "code",
   "execution_count": null,
   "id": "13c8efbf",
   "metadata": {},
   "outputs": [],
   "source": [
    "ax, collections = xgi.draw_bipartite(\n",
    "    DH,\n",
    "    node_fc=DH.nodes.degree,\n",
    "    edge_marker_fc=DH.edges.size,\n",
    "    node_size=DH.nodes.degree,\n",
    ")\n",
    "\n",
    "node_coll, edge_marker_coll, dyad_coll = collections\n",
    "\n",
    "plt.colorbar(node_coll, label=\"nodes\")\n",
    "plt.colorbar(edge_marker_coll, label=\"edges\")"
   ]
  },
  {
   "cell_type": "markdown",
   "id": "56966a12",
   "metadata": {},
   "source": [
    "By default, the colormaps used are \"crest_r\" and \"Reds\". These can be changed:"
   ]
  },
  {
   "cell_type": "code",
   "execution_count": null,
   "id": "c9566bd3",
   "metadata": {},
   "outputs": [],
   "source": [
    "ax, collections = xgi.draw_bipartite(\n",
    "    DH,\n",
    "    node_fc=DH.nodes.degree,\n",
    "    edge_marker_fc=DH.edges.size,\n",
    "    node_fc_cmap=\"viridis\",\n",
    "    edge_marker_fc_cmap=\"tab10\",\n",
    ")\n",
    "\n",
    "node_coll, edge_marker_coll, dyad_coll = collections\n",
    "\n",
    "plt.colorbar(node_coll, label=\"nodes\")\n",
    "plt.colorbar(edge_marker_coll, label=\"edges\")"
   ]
  },
  {
   "cell_type": "markdown",
   "id": "40e0587c",
   "metadata": {},
   "source": [
    "## Styling of arrows"
   ]
  },
  {
   "cell_type": "markdown",
   "id": "64362ef0",
   "metadata": {},
   "source": [
    "By default, the `arrowstyle` used is `\"-|>\"`:"
   ]
  },
  {
   "cell_type": "code",
   "execution_count": null,
   "id": "f50cd066",
   "metadata": {},
   "outputs": [],
   "source": [
    "xgi.draw_bipartite(DH, arrowstyle=\"-|>\")"
   ]
  },
  {
   "cell_type": "markdown",
   "id": "90962beb",
   "metadata": {},
   "source": [
    "Other styles can be used, see the full list from [Matplotlib](https://matplotlib.org/stable/api/_as_gen/matplotlib.patches.FancyArrowPatch.html#matplotlib.patches.FancyArrowPatch)"
   ]
  },
  {
   "cell_type": "code",
   "execution_count": null,
   "id": "27cdcec3",
   "metadata": {},
   "outputs": [],
   "source": [
    "styles = [\"simple\", \"fancy\", \"]->\"]\n",
    "\n",
    "fig, axs = plt.subplots(1, len(styles), figsize=(10, 3))\n",
    "\n",
    "for i, style in enumerate(styles):\n",
    "    ax = axs[i]\n",
    "    xgi.draw_bipartite(DH, arrowstyle=style, ax=ax)\n",
    "    ax.set_title(f\"{style}\")"
   ]
  },
  {
   "cell_type": "markdown",
   "id": "13324569",
   "metadata": {},
   "source": [
    "There is a second argument to style arrows: `connectionstyle`. The default value is `\"arc3\"`, but other values can be used"
   ]
  },
  {
   "cell_type": "code",
   "execution_count": null,
   "id": "4ce35e98",
   "metadata": {},
   "outputs": [],
   "source": [
    "styles = [\"angle3\", \"bar\", \"angle\"]\n",
    "\n",
    "fig, axs = plt.subplots(1, len(styles), figsize=(12, 4))\n",
    "\n",
    "for i, style in enumerate(styles):\n",
    "    ax = axs[i]\n",
    "    xgi.draw_bipartite(DH, connectionstyle=style, ax=ax)\n",
    "    ax.set_title(f\"{style}\")"
   ]
  },
  {
   "cell_type": "markdown",
   "id": "af6eecb5",
   "metadata": {},
   "source": [
    "## Layout"
   ]
  },
  {
   "cell_type": "markdown",
   "id": "fb4942d5",
   "metadata": {},
   "source": [
    "The initial layout is computed based on the original nodes only. After that, the layout can be recomputed based on those original positions, with the edge-nodes starting at the barycenter, to avoid overlap:"
   ]
  },
  {
   "cell_type": "code",
   "execution_count": null,
   "id": "0b1dd42f",
   "metadata": {},
   "outputs": [],
   "source": [
    "node_pos, edge_pos = xgi.bipartite_spring_layout(DH, iterations=0)\n",
    "xgi.draw_bipartite(DH, node_pos=node_pos, edge_pos=edge_pos)"
   ]
  },
  {
   "cell_type": "code",
   "execution_count": null,
   "id": "99cec264",
   "metadata": {},
   "outputs": [],
   "source": [
    "pos = xgi.bipartite_spring_layout(DH, iterations=50)\n",
    "xgi.draw_bipartite(DH, pos=pos)"
   ]
  },
  {
   "cell_type": "markdown",
   "id": "aec52abb",
   "metadata": {},
   "source": [
    "A larger example"
   ]
  },
  {
   "cell_type": "code",
   "execution_count": null,
   "id": "e653f0ae",
   "metadata": {},
   "outputs": [],
   "source": [
    "edges = [\n",
    "    [[8], [0]],\n",
    "    [[1, 2], [0]],\n",
    "    [[0, 3], [1]],\n",
    "    [[1, 3], [2]],\n",
    "    [[1, 5], [3]],\n",
    "    [[2, 5], [4]],\n",
    "    [[3, 4], [5, 6]],\n",
    "    [[6, 7], [5]],\n",
    "    [[5, 8], [6]],\n",
    "    [[6, 8], [7]],\n",
    "    [[6, 0], [8]],\n",
    "    [[7, 0], [9]],\n",
    "]\n",
    "\n",
    "DH = xgi.DiHypergraph(edges)"
   ]
  },
  {
   "cell_type": "code",
   "execution_count": null,
   "id": "eacb941c",
   "metadata": {},
   "outputs": [],
   "source": [
    "pos = xgi.bipartite_spring_layout(DH, iterations=0)\n",
    "xgi.draw_bipartite(DH, pos=pos)"
   ]
  },
  {
   "cell_type": "code",
   "execution_count": null,
   "id": "37f790a7",
   "metadata": {},
   "outputs": [],
   "source": [
    "node_pos, edge_pos = xgi.bipartite_spring_layout(DH, iterations=50)\n",
    "xgi.draw_bipartite(DH, node_pos=node_pos, edge_pos=edge_pos)"
   ]
  }
 ],
 "metadata": {
  "kernelspec": {
   "display_name": "hyper",
   "language": "python",
   "name": "hyper"
  },
  "language_info": {
   "codemirror_mode": {
    "name": "ipython",
    "version": 3
   },
   "file_extension": ".py",
   "mimetype": "text/x-python",
   "name": "python",
   "nbconvert_exporter": "python",
   "pygments_lexer": "ipython3",
   "version": "3.10.0"
  },
  "toc": {
   "base_numbering": 1,
   "nav_menu": {},
   "number_sections": true,
   "sideBar": true,
   "skip_h1_title": false,
   "title_cell": "Table of Contents",
   "title_sidebar": "Contents",
   "toc_cell": false,
   "toc_position": {},
   "toc_section_display": true,
   "toc_window_display": true
  }
 },
 "nbformat": 4,
 "nbformat_minor": 5
}
