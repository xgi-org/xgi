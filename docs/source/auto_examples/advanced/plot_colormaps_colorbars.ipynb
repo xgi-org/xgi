{
  "cells": [
    {
      "cell_type": "markdown",
      "metadata": {},
      "source": [
        "\n# Colormaps and colorbars\n\nSet colormaps and show colorbars.\n"
      ]
    },
    {
      "cell_type": "code",
      "execution_count": null,
      "metadata": {
        "collapsed": false
      },
      "outputs": [],
      "source": [
        "import matplotlib.pyplot as plt\nimport xgi\n\nhyperedges = [[1, 2, 3], [3, 4, 5], [3, 6], [6, 7, 8, 9], [1, 4, 10, 11, 12], [1, 4]]\nH = xgi.Hypergraph(hyperedges)\n\n\npos = xgi.barycenter_spring_layout(H, seed=1)\n\nfig, ax = plt.subplots(figsize=(6, 2.5))\n\nax, collections = xgi.draw(\n    H,\n    pos=pos,\n    node_fc=H.nodes.degree,\n    edge_fc=H.edges.size,\n    edge_fc_cmap=\"viridis\",\n    node_fc_cmap=\"mako_r\",\n)\n\nnode_col, _, edge_col = collections\n\nplt.colorbar(node_col, label=\"Node degree\")\nplt.colorbar(edge_col, label=\"Edge size\")\n\nplt.show()"
      ]
    }
  ],
  "metadata": {
    "kernelspec": {
      "display_name": "Python 3",
      "language": "python",
      "name": "python3"
    },
    "language_info": {
      "codemirror_mode": {
        "name": "ipython",
        "version": 3
      },
      "file_extension": ".py",
      "mimetype": "text/x-python",
      "name": "python",
      "nbconvert_exporter": "python",
      "pygments_lexer": "ipython3",
      "version": "3.11.9"
    }
  },
  "nbformat": 4,
  "nbformat_minor": 0
}