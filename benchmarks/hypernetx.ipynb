{
 "cells": [
  {
   "cell_type": "markdown",
   "metadata": {},
   "source": [
    "### Benchmark with HyperNetX\n",
    "\n",
    "This notebook provides a comparison to HyperNetX for running several algorithms, calculating measures, and accessing properties. It is necessary to install the benchmarks [requirements file](../requirements/benchmarks.txt) to run this notebook."
   ]
  },
  {
   "cell_type": "code",
   "execution_count": 1,
   "metadata": {},
   "outputs": [],
   "source": [
    "import hypernetx as hnx\n",
    "import xgi\n",
    "import pandas as pd\n",
    "import time"
   ]
  },
  {
   "cell_type": "code",
   "execution_count": 3,
   "metadata": {},
   "outputs": [],
   "source": [
    "data = xgi.load_xgi_data(\"email-enron\")\n",
    "data.cleanup()\n",
    "edgelist = xgi.to_hyperedge_list(data)\n",
    "df = xgi.to_bipartite_pandas_dataframe(data)"
   ]
  },
  {
   "cell_type": "code",
   "execution_count": 4,
   "metadata": {},
   "outputs": [
    {
     "name": "stdout",
     "output_type": "stream",
     "text": [
      "XGI edgelist construction time: 0.011233806610107422 sec\n",
      "The hypergraph has 1459 nodes and 143 edges.\n",
      "HyperNetX edgelist construction time: 0.023783206939697266 sec\n",
      "The hypergraph has 143 nodes and 1459 edges.\n"
     ]
    }
   ],
   "source": [
    "start = time.time()\n",
    "H1 = xgi.Hypergraph(edgelist)\n",
    "H1 = H1.dual()\n",
    "print(f\"XGI edgelist construction time: {time.time() - start} sec\")\n",
    "print(f\"The hypergraph has {H1.num_nodes} nodes and {H1.num_edges} edges.\")\n",
    "\n",
    "start = time.time()\n",
    "H2 = hnx.Hypergraph(edgelist, static=True)\n",
    "print(f\"HyperNetX edgelist construction time: {time.time() - start} sec\")\n",
    "print(\n",
    "    f\"The hypergraph has {H2.number_of_nodes()} nodes and {H2.number_of_edges()} edges.\"\n",
    ")"
   ]
  },
  {
   "cell_type": "code",
   "execution_count": 5,
   "metadata": {},
   "outputs": [
    {
     "name": "stdout",
     "output_type": "stream",
     "text": [
      "XGI edgelist construction time: 0.010957956314086914 sec\n",
      "The hypergraph has 1459 nodes and 143 edges.\n",
      "HyperNetX edgelist construction time: 0.2202610969543457 sec\n",
      "The hypergraph has 1459 nodes and 143 edges.\n"
     ]
    }
   ],
   "source": [
    "start = time.time()\n",
    "H1 = xgi.Hypergraph(df)\n",
    "H1 = H1.dual()\n",
    "print(f\"XGI edgelist construction time: {time.time() - start} sec\")\n",
    "print(f\"The hypergraph has {H1.num_nodes} nodes and {H1.num_edges} edges.\")\n",
    "\n",
    "start = time.time()\n",
    "H2 = hnx.Hypergraph(df, static=True)\n",
    "print(f\"HyperNetX edgelist construction time: {time.time() - start} sec\")\n",
    "print(\n",
    "    f\"The hypergraph has {H2.number_of_nodes()} nodes and {H2.number_of_edges()} edges.\"\n",
    ")"
   ]
  },
  {
   "cell_type": "code",
   "execution_count": 27,
   "metadata": {},
   "outputs": [
    {
     "name": "stdout",
     "output_type": "stream",
     "text": [
      "XGI dual hypergraph construction time:\n",
      "6.28 ms ± 133 µs per loop (mean ± std. dev. of 7 runs, 100 loops each)\n",
      "HyperNetX dual hypergraph construction time:\n",
      "38.4 ms ± 393 µs per loop (mean ± std. dev. of 7 runs, 10 loops each)\n"
     ]
    }
   ],
   "source": [
    "print(\"XGI dual hypergraph construction time:\")\n",
    "%timeit H1.dual()\n",
    "\n",
    "print(\"HyperNetX dual hypergraph construction time:\")\n",
    "%timeit H2.dual()"
   ]
  },
  {
   "cell_type": "code",
   "execution_count": 5,
   "metadata": {},
   "outputs": [
    {
     "name": "stdout",
     "output_type": "stream",
     "text": [
      "XGI incidence matrix construction time:\n",
      "60.4 ms ± 1.69 ms per loop (mean ± std. dev. of 7 runs, 10 loops each)\n",
      "HyperNetX incidence matrix construction time:\n",
      "158 ns ± 0.0754 ns per loop (mean ± std. dev. of 7 runs, 10,000,000 loops each)\n"
     ]
    }
   ],
   "source": [
    "print(\"XGI incidence matrix construction time:\")\n",
    "%timeit I1 = xgi.incidence_matrix(H1)\n",
    "print(\"HyperNetX incidence matrix construction time:\")\n",
    "%timeit I2 = H2.incidence_matrix()"
   ]
  },
  {
   "cell_type": "code",
   "execution_count": 6,
   "metadata": {},
   "outputs": [
    {
     "name": "stdout",
     "output_type": "stream",
     "text": [
      "XGI adjacency matrix construction time:\n",
      "110 ms ± 1.06 ms per loop (mean ± std. dev. of 7 runs, 10 loops each)\n",
      "HyperNetX adjacency matrix construction time:\n",
      "45 ms ± 88.1 µs per loop (mean ± std. dev. of 7 runs, 10 loops each)\n"
     ]
    }
   ],
   "source": [
    "print(\"XGI adjacency matrix construction time:\")\n",
    "%timeit xgi.adjacency_matrix(H1)\n",
    "\n",
    "print(\"HyperNetX adjacency matrix construction time:\")\n",
    "%timeit H2.adjacency_matrix()"
   ]
  },
  {
   "cell_type": "code",
   "execution_count": 7,
   "metadata": {},
   "outputs": [
    {
     "name": "stdout",
     "output_type": "stream",
     "text": [
      "XGI adjacency dictionary retrieval time:\n",
      "57.8 ms ± 330 µs per loop (mean ± std. dev. of 7 runs, 10 loops each)\n",
      "XGI adjacency dictionary retrieval time:\n",
      "198 ms ± 1.77 ms per loop (mean ± std. dev. of 7 runs, 10 loops each)\n"
     ]
    }
   ],
   "source": [
    "print(\"XGI adjacency dictionary retrieval time:\")\n",
    "%timeit xgi.to_hyperedge_dict(H1)\n",
    "\n",
    "print(\"XGI adjacency dictionary retrieval time:\")\n",
    "%timeit H2.incidence_dict"
   ]
  },
  {
   "cell_type": "code",
   "execution_count": 8,
   "metadata": {},
   "outputs": [
    {
     "name": "stdout",
     "output_type": "stream",
     "text": [
      "XGI node memberships retrieval time:\n",
      "0.003931760787963867 sec\n",
      "HyperNetX node memberships retrieval time:\n",
      "0.02753615379333496 sec\n"
     ]
    }
   ],
   "source": [
    "print(\"XGI node memberships retrieval time:\")\n",
    "start = time.time()\n",
    "for node in H1.nodes:\n",
    "    a = H1.nodes.memberships(node)\n",
    "print(f\"{time.time() - start} sec\")\n",
    "\n",
    "print(\"HyperNetX node memberships retrieval time:\")\n",
    "start = time.time()\n",
    "for node in H2.nodes:\n",
    "    a = H2.nodes.memberships[node]\n",
    "print(f\"{time.time() - start} sec\")"
   ]
  },
  {
   "cell_type": "code",
   "execution_count": 9,
   "metadata": {},
   "outputs": [
    {
     "name": "stdout",
     "output_type": "stream",
     "text": [
      "XGI hyperedge retrieval time:\n",
      "0.007923126220703125 sec\n",
      "HyperNetX hyperedge retrieval time:\n",
      "3.9082751274108887 sec\n"
     ]
    }
   ],
   "source": [
    "print(\"XGI hyperedge retrieval time:\")\n",
    "start = time.time()\n",
    "for edge in H1.edges:\n",
    "    a = H1.edges.members(edge)\n",
    "print(f\"{time.time() - start} sec\")\n",
    "\n",
    "print(\"HyperNetX hyperedge retrieval time:\")\n",
    "start = time.time()\n",
    "for node in H2.nodes:\n",
    "    a = H2.edges[edge]\n",
    "print(f\"{time.time() - start} sec\")"
   ]
  },
  {
   "cell_type": "code",
   "execution_count": 10,
   "metadata": {},
   "outputs": [
    {
     "name": "stdout",
     "output_type": "stream",
     "text": [
      "XGI time to determine connectedness:\n",
      "178 ms ± 4.03 ms per loop (mean ± std. dev. of 7 runs, 10 loops each)\n",
      "HyperNetX time to determine connectedness:\n",
      "272 ms ± 234 µs per loop (mean ± std. dev. of 7 runs, 1 loop each)\n"
     ]
    }
   ],
   "source": [
    "print(\"XGI time to determine connectedness:\")\n",
    "%timeit xgi.is_connected(H1)\n",
    "\n",
    "print(\"HyperNetX time to determine connectedness:\")\n",
    "%timeit H2.is_connected()"
   ]
  },
  {
   "cell_type": "code",
   "execution_count": 11,
   "metadata": {},
   "outputs": [
    {
     "name": "stdout",
     "output_type": "stream",
     "text": [
      "XGI time to determine connected components:\n",
      "181 ms ± 4.5 ms per loop (mean ± std. dev. of 7 runs, 10 loops each)\n",
      "HyperNetX time to determine connected components:\n",
      "284 ms ± 2.03 ms per loop (mean ± std. dev. of 7 runs, 1 loop each)\n"
     ]
    }
   ],
   "source": [
    "print(\"XGI time to determine connected components:\")\n",
    "%timeit [len(cc) for cc in xgi.connected_components(H1)]\n",
    "\n",
    "print(\"HyperNetX time to determine connected components:\")\n",
    "%timeit [len(cc) for cc in H2.connected_components()]"
   ]
  },
  {
   "cell_type": "code",
   "execution_count": 12,
   "metadata": {},
   "outputs": [
    {
     "name": "stdout",
     "output_type": "stream",
     "text": [
      "XGI time to construct Chung-Lu hypergraph:\n",
      "135 ms ± 2.54 ms per loop (mean ± std. dev. of 7 runs, 10 loops each)\n",
      "HyperNetX time to construct Chung-Lu hypergraph:\n",
      "5.98 s ± 21.5 ms per loop (mean ± std. dev. of 7 runs, 1 loop each)\n"
     ]
    }
   ],
   "source": [
    "k1 = H1.nodes.degree.asdict()\n",
    "k2 = H1.edges.size.asdict()\n",
    "\n",
    "print(\"XGI time to construct Chung-Lu hypergraph:\")\n",
    "%timeit xgi.chung_lu_hypergraph(k1, k2)\n",
    "\n",
    "print(\"HyperNetX time to construct Chung-Lu hypergraph:\")\n",
    "%timeit hnx.chung_lu_hypergraph(k1, k2)"
   ]
  }
 ],
 "metadata": {
  "kernelspec": {
   "display_name": "hyper",
   "language": "python",
   "name": "python3"
  },
  "language_info": {
   "codemirror_mode": {
    "name": "ipython",
    "version": 3
   },
   "file_extension": ".py",
   "mimetype": "text/x-python",
   "name": "python",
   "nbconvert_exporter": "python",
   "pygments_lexer": "ipython3",
   "version": "3.10.6"
  },
  "vscode": {
   "interpreter": {
    "hash": "d499419bfd3ffc3e3fdefe0b9d84e10a93ca5c11fd9f2ad00edb8d726bc70f5f"
   }
  }
 },
 "nbformat": 4,
 "nbformat_minor": 2
}
