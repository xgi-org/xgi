{
 "cells": [
  {
   "cell_type": "markdown",
   "metadata": {},
   "source": [
    "### Benchmark with HyperNetX\n",
    "\n",
    "This notebook provides a comparison to HyperNetX for running several algorithms, calculating measures, and accessing properties. It is necessary to install the benchmarks [requirements file](../requirements/benchmarks.txt) to run this notebook."
   ]
  },
  {
   "cell_type": "code",
   "execution_count": null,
   "metadata": {},
   "outputs": [],
   "source": [
    "import time\n",
    "\n",
    "import hypernetx as hnx\n",
    "\n",
    "import xgi"
   ]
  },
  {
   "cell_type": "code",
   "execution_count": null,
   "metadata": {},
   "outputs": [],
   "source": [
    "data = xgi.load_xgi_data(\"email-enron\")\n",
    "data.cleanup()\n",
    "edgelist = xgi.to_hyperedge_list(data)\n",
    "df = xgi.to_bipartite_pandas_dataframe(data)"
   ]
  },
  {
   "cell_type": "code",
   "execution_count": null,
   "metadata": {},
   "outputs": [],
   "source": [
    "start = time.time()\n",
    "H1 = xgi.Hypergraph(edgelist)\n",
    "H1 = H1.dual()\n",
    "print(f\"XGI edgelist construction time: {time.time() - start} sec\")\n",
    "print(f\"The hypergraph has {H1.num_nodes} nodes and {H1.num_edges} edges.\")\n",
    "\n",
    "start = time.time()\n",
    "H2 = hnx.Hypergraph(edgelist, static=True)\n",
    "print(f\"HyperNetX edgelist construction time: {time.time() - start} sec\")\n",
    "print(\n",
    "    f\"The hypergraph has {H2.number_of_nodes()} nodes and {H2.number_of_edges()} edges.\"\n",
    ")"
   ]
  },
  {
   "cell_type": "code",
   "execution_count": null,
   "metadata": {},
   "outputs": [],
   "source": [
    "start = time.time()\n",
    "H1 = xgi.Hypergraph(df)\n",
    "H1 = H1.dual()\n",
    "print(f\"XGI edgelist construction time: {time.time() - start} sec\")\n",
    "print(f\"The hypergraph has {H1.num_nodes} nodes and {H1.num_edges} edges.\")\n",
    "\n",
    "start = time.time()\n",
    "H2 = hnx.Hypergraph(df, static=True)\n",
    "print(f\"HyperNetX edgelist construction time: {time.time() - start} sec\")\n",
    "print(\n",
    "    f\"The hypergraph has {H2.number_of_nodes()} nodes and {H2.number_of_edges()} edges.\"\n",
    ")"
   ]
  },
  {
   "cell_type": "code",
   "execution_count": null,
   "metadata": {},
   "outputs": [],
   "source": [
    "print(\"XGI dual hypergraph construction time:\")\n",
    "%timeit H1.dual()\n",
    "\n",
    "print(\"HyperNetX dual hypergraph construction time:\")\n",
    "%timeit H2.dual()"
   ]
  },
  {
   "cell_type": "code",
   "execution_count": null,
   "metadata": {},
   "outputs": [],
   "source": [
    "print(\"XGI incidence matrix construction time:\")\n",
    "%timeit I1 = xgi.incidence_matrix(H1)\n",
    "print(\"HyperNetX incidence matrix construction time:\")\n",
    "%timeit I2 = H2.incidence_matrix()"
   ]
  },
  {
   "cell_type": "code",
   "execution_count": null,
   "metadata": {},
   "outputs": [],
   "source": [
    "print(\"XGI adjacency matrix construction time:\")\n",
    "%timeit xgi.adjacency_matrix(H1)\n",
    "\n",
    "print(\"HyperNetX adjacency matrix construction time:\")\n",
    "%timeit H2.adjacency_matrix()"
   ]
  },
  {
   "cell_type": "code",
   "execution_count": null,
   "metadata": {},
   "outputs": [],
   "source": [
    "print(\"XGI adjacency dictionary retrieval time:\")\n",
    "%timeit xgi.to_hyperedge_dict(H1)\n",
    "\n",
    "print(\"XGI adjacency dictionary retrieval time:\")\n",
    "%timeit H2.incidence_dict"
   ]
  },
  {
   "cell_type": "code",
   "execution_count": null,
   "metadata": {},
   "outputs": [],
   "source": [
    "print(\"XGI node memberships retrieval time:\")\n",
    "start = time.time()\n",
    "for node in H1.nodes:\n",
    "    a = H1.nodes.memberships(node)\n",
    "print(f\"{time.time() - start} sec\")\n",
    "\n",
    "print(\"HyperNetX node memberships retrieval time:\")\n",
    "start = time.time()\n",
    "for node in H2.nodes:\n",
    "    a = H2.nodes.memberships[node]\n",
    "print(f\"{time.time() - start} sec\")"
   ]
  },
  {
   "cell_type": "code",
   "execution_count": null,
   "metadata": {},
   "outputs": [],
   "source": [
    "print(\"XGI hyperedge retrieval time:\")\n",
    "start = time.time()\n",
    "for edge in H1.edges:\n",
    "    a = H1.edges.members(edge)\n",
    "print(f\"{time.time() - start} sec\")\n",
    "\n",
    "print(\"HyperNetX hyperedge retrieval time:\")\n",
    "start = time.time()\n",
    "for node in H2.nodes:\n",
    "    a = H2.edges[edge]\n",
    "print(f\"{time.time() - start} sec\")"
   ]
  },
  {
   "cell_type": "code",
   "execution_count": null,
   "metadata": {},
   "outputs": [],
   "source": [
    "print(\"XGI time to determine connectedness:\")\n",
    "%timeit xgi.is_connected(H1)\n",
    "\n",
    "print(\"HyperNetX time to determine connectedness:\")\n",
    "%timeit H2.is_connected()"
   ]
  },
  {
   "cell_type": "code",
   "execution_count": null,
   "metadata": {},
   "outputs": [],
   "source": [
    "print(\"XGI time to determine connected components:\")\n",
    "%timeit [len(cc) for cc in xgi.connected_components(H1)]\n",
    "\n",
    "print(\"HyperNetX time to determine connected components:\")\n",
    "%timeit [len(cc) for cc in H2.connected_components()]"
   ]
  },
  {
   "cell_type": "code",
   "execution_count": null,
   "metadata": {},
   "outputs": [],
   "source": [
    "k1 = H1.nodes.degree.asdict()\n",
    "k2 = H1.edges.size.asdict()\n",
    "\n",
    "print(\"XGI time to construct Chung-Lu hypergraph:\")\n",
    "%timeit xgi.chung_lu_hypergraph(k1, k2)\n",
    "\n",
    "print(\"HyperNetX time to construct Chung-Lu hypergraph:\")\n",
    "%timeit hnx.chung_lu_hypergraph(k1, k2)"
   ]
  }
 ],
 "metadata": {
  "kernelspec": {
   "display_name": "hyper",
   "language": "python",
   "name": "python3"
  },
  "language_info": {
   "codemirror_mode": {
    "name": "ipython",
    "version": 3
   },
   "file_extension": ".py",
   "mimetype": "text/x-python",
   "name": "python",
   "nbconvert_exporter": "python",
   "pygments_lexer": "ipython3",
   "version": "3.10.0"
  },
  "vscode": {
   "interpreter": {
    "hash": "d499419bfd3ffc3e3fdefe0b9d84e10a93ca5c11fd9f2ad00edb8d726bc70f5f"
   }
  }
 },
 "nbformat": 4,
 "nbformat_minor": 2
}
